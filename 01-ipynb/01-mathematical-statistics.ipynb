{
 "cells": [
  {
   "cell_type": "code",
   "execution_count": 1,
   "id": "42b55d6e",
   "metadata": {},
   "outputs": [],
   "source": [
    "import matplotlib.pyplot as plt\n",
    "import seaborn as sns\n",
    "import numpy as np\n",
    "import pandas as pd"
   ]
  },
  {
   "cell_type": "markdown",
   "id": "bd4bde83",
   "metadata": {},
   "source": [
    "## Collecting data"
   ]
  },
  {
   "cell_type": "code",
   "execution_count": 2,
   "id": "caa65569",
   "metadata": {},
   "outputs": [],
   "source": [
    "import yfinance as yf"
   ]
  },
  {
   "cell_type": "markdown",
   "id": "a8f43708",
   "metadata": {},
   "source": [
    "#### PlayGround"
   ]
  },
  {
   "cell_type": "code",
   "execution_count": null,
   "id": "b47d28b5",
   "metadata": {},
   "outputs": [],
   "source": [
    "# halyk = yf.Ticker(\"HSBK.IL\").history(start=\"2023-01-01\", end=\"2025-09-24\", interval=\"3mo\")\n",
    "# halyk.Close.pct_change().round(decimals=2)"
   ]
  },
  {
   "cell_type": "code",
   "execution_count": null,
   "id": "9db21bd9",
   "metadata": {},
   "outputs": [],
   "source": [
    "# kaspi = yf.Ticker(\"KSPI\").history(start=\"2023-01-01\", end=\"2025-09-24\", interval=\"3mo\")\n",
    "# kaspi.Close.pct_change().round(decimals=2)"
   ]
  },
  {
   "cell_type": "markdown",
   "id": "0e88b47f",
   "metadata": {},
   "source": [
    "#### Control work 1"
   ]
  },
  {
   "cell_type": "code",
   "execution_count": 3,
   "id": "b969f8ef",
   "metadata": {},
   "outputs": [],
   "source": [
    "apple = yf.Ticker(\"AAPL\").history(start=\"2023-01-01\", end=\"2025-09-24\", interval=\"3mo\")\n",
    "microsoft = yf.Ticker(\"MSFT\").history(start=\"2023-01-01\", end=\"2025-09-24\", interval=\"3mo\")\n",
    "variant04 = pd.DataFrame({\n",
    "    \"X\":apple.Close.pct_change().round(decimals=2),\n",
    "    \"Y\":microsoft.Close.pct_change().round(decimals=2)\n",
    "})"
   ]
  },
  {
   "cell_type": "code",
   "execution_count": 4,
   "id": "54c82c03",
   "metadata": {},
   "outputs": [],
   "source": [
    "google = yf.Ticker(\"GOOG\").history(start=\"2023-01-01\", end=\"2025-09-24\", interval=\"3mo\")\n",
    "amazon = yf.Ticker(\"AMZN\").history(start=\"2023-01-01\", end=\"2025-09-24\", interval=\"3mo\")\n",
    "variant01 = pd.DataFrame({\n",
    "    \"X\":google.Close.pct_change().round(decimals=2),\n",
    "    \"Y\":amazon.Close.pct_change().round(decimals=2)\n",
    "})"
   ]
  },
  {
   "cell_type": "code",
   "execution_count": 5,
   "id": "c25672bc",
   "metadata": {},
   "outputs": [],
   "source": [
    "byd = yf.Ticker(\"1211.HK\").history(start=\"2023-01-01\", end=\"2025-09-24\", interval=\"3mo\")\n",
    "tesla = yf.Ticker(\"TSLA\").history(start=\"2023-01-01\", end=\"2025-09-24\", interval=\"3mo\")\n",
    "variant02 = pd.DataFrame({\n",
    "    \"X\":byd.Close.pct_change().round(decimals=2),\n",
    "    \"Y\":tesla.Close.pct_change().round(decimals=2)\n",
    "})"
   ]
  },
  {
   "cell_type": "code",
   "execution_count": 6,
   "id": "447db988",
   "metadata": {},
   "outputs": [],
   "source": [
    "coke = yf.Ticker(\"COKE\").history(start=\"2023-01-01\", end=\"2025-09-24\", interval=\"3mo\")\n",
    "pepsi = yf.Ticker(\"PEP\").history(start=\"2023-01-01\", end=\"2025-09-24\", interval=\"3mo\")\n",
    "variant03 = pd.DataFrame({\n",
    "    \"X\":coke.Close.pct_change().round(decimals=2),\n",
    "    \"Y\":pepsi.Close.pct_change().round(decimals=2)\n",
    "})"
   ]
  },
  {
   "cell_type": "code",
   "execution_count": 7,
   "id": "ba65ac8d",
   "metadata": {},
   "outputs": [],
   "source": [
    "johnsonjohnson = yf.Ticker(\"JNJ\").history(start=\"2023-01-01\", end=\"2025-09-24\", interval=\"3mo\")\n",
    "proctelGamble = yf.Ticker(\"PG\").history(start=\"2023-01-01\", end=\"2025-09-24\", interval=\"3mo\")\n",
    "variant05 = pd.DataFrame({\n",
    "    \"X\":johnsonjohnson.Close.pct_change().round(decimals=2),\n",
    "    \"Y\":proctelGamble.Close.pct_change().round(decimals=2)\n",
    "})"
   ]
  },
  {
   "cell_type": "code",
   "execution_count": 8,
   "id": "6e63af15",
   "metadata": {},
   "outputs": [],
   "source": [
    "walmart = yf.Ticker(\"WMT\").history(start=\"2023-01-01\", end=\"2025-09-24\", interval=\"3mo\")\n",
    "costco = yf.Ticker(\"COST\").history(start=\"2023-01-01\", end=\"2025-09-24\", interval=\"3mo\")\n",
    "variant06 = pd.DataFrame({\n",
    "    \"X\":walmart.Close.pct_change().round(decimals=2),\n",
    "    \"Y\":costco.Close.pct_change().round(decimals=2)\n",
    "})"
   ]
  },
  {
   "cell_type": "code",
   "execution_count": 9,
   "id": "a0ef1f1f",
   "metadata": {},
   "outputs": [],
   "source": [
    "mcdonald = yf.Ticker(\"MCD\").history(start=\"2023-01-01\", end=\"2025-09-24\", interval=\"3mo\")\n",
    "kfc = yf.Ticker(\"3420.T\").history(start=\"2023-01-01\", end=\"2025-09-24\", interval=\"3mo\")\n",
    "variant07 = pd.DataFrame({\n",
    "    \"X\":mcdonald.Close.pct_change().round(decimals=2),\n",
    "    \"Y\":kfc.Close.pct_change().round(decimals=2)\n",
    "})"
   ]
  },
  {
   "cell_type": "code",
   "execution_count": 10,
   "id": "807571e2",
   "metadata": {},
   "outputs": [],
   "source": [
    "pfizer = yf.Ticker(\"PFE\").history(start=\"2023-01-01\", end=\"2025-09-24\", interval=\"3mo\")\n",
    "variant08 = pd.DataFrame({\n",
    "    \"X\":pfizer.Close.pct_change().round(decimals=2),\n",
    "    \"Y\":johnsonjohnson.Close.pct_change().round(decimals=2)\n",
    "})"
   ]
  },
  {
   "cell_type": "code",
   "execution_count": 11,
   "id": "1db8eecc",
   "metadata": {},
   "outputs": [],
   "source": [
    "monster = yf.Ticker(\"MNST\").history(start=\"2023-01-01\", end=\"2025-09-24\", interval=\"3mo\")\n",
    "pepper = yf.Ticker(\"KDP\").history(start=\"2023-01-01\", end=\"2025-09-24\", interval=\"3mo\")\n",
    "variant09 = pd.DataFrame({\n",
    "    \"X\":monster.Close.pct_change().round(decimals=2),\n",
    "    \"Y\":pepper.Close.pct_change().round(decimals=2)\n",
    "})"
   ]
  },
  {
   "cell_type": "code",
   "execution_count": 12,
   "id": "e768b0d8",
   "metadata": {},
   "outputs": [],
   "source": [
    "variant10 = pd.DataFrame({\n",
    "    \"X\":google.Close.pct_change().round(decimals=2),\n",
    "    \"Y\":microsoft.Close.pct_change().round(decimals=2)\n",
    "})\n",
    "\n",
    "variant11 = pd.DataFrame({\n",
    "    \"X\":microsoft.Close.pct_change().round(decimals=2),\n",
    "    \"Y\":amazon.Close.pct_change().round(decimals=2)\n",
    "})"
   ]
  },
  {
   "cell_type": "markdown",
   "id": "e979c103",
   "metadata": {},
   "source": [
    "## Statistics"
   ]
  },
  {
   "cell_type": "code",
   "execution_count": null,
   "id": "479eda9c",
   "metadata": {},
   "outputs": [],
   "source": [
    "x = microsoft.Open.round(decimals=3) \n",
    "x = google.Open.round(decimals=3) \n",
    "# x = kaspi.Open.round(decimals=3) \n",
    "# x = halyk.Open.round(decimals=3) \n"
   ]
  },
  {
   "cell_type": "code",
   "execution_count": 51,
   "id": "7dcd7fe1",
   "metadata": {},
   "outputs": [
    {
     "name": "stdout",
     "output_type": "stream",
     "text": [
      "x_avg = 455.6666666666667 y_avg =502.6666666666667\n"
     ]
    }
   ],
   "source": [
    "print(f\"x_avg = {x.mean()} y_avg ={y.mean()}\")"
   ]
  },
  {
   "cell_type": "code",
   "execution_count": 18,
   "id": "6e5bc724",
   "metadata": {},
   "outputs": [
    {
     "data": {
      "text/plain": [
       "np.float64(0.0)"
      ]
     },
     "execution_count": 18,
     "metadata": {},
     "output_type": "execute_result"
    }
   ],
   "source": [
    "x.var(ddof=0) - sum((x - x.mean())**2)/(len(x))"
   ]
  },
  {
   "cell_type": "code",
   "execution_count": 52,
   "id": "df969f30",
   "metadata": {},
   "outputs": [
    {
     "data": {
      "text/plain": [
       "np.float64(0.0)"
      ]
     },
     "execution_count": 52,
     "metadata": {},
     "output_type": "execute_result"
    }
   ],
   "source": [
    "x.var(ddof=1) - sum((x - x.mean())**2)/(len(x)-1) # исправленнное выборочное отклонение"
   ]
  },
  {
   "cell_type": "code",
   "execution_count": 53,
   "id": "b5c78d9a",
   "metadata": {},
   "outputs": [
    {
     "name": "stdout",
     "output_type": "stream",
     "text": [
      "x_var = 21.46666666666667 y_var =15.066666666666666\n"
     ]
    }
   ],
   "source": [
    "print(f\"x_var = {x.var(ddof=1)} y_var ={y.var(ddof=1)}\")"
   ]
  },
  {
   "cell_type": "code",
   "execution_count": 54,
   "id": "73a12f33",
   "metadata": {},
   "outputs": [
    {
     "name": "stdout",
     "output_type": "stream",
     "text": [
      "x_std = 4.633213427705082 y_std =3.8815804341359033\n"
     ]
    }
   ],
   "source": [
    "print(f\"x_std = {x.std(ddof=1)} y_std ={y.std(ddof=1)}\")"
   ]
  },
  {
   "cell_type": "code",
   "execution_count": null,
   "id": "1599a441",
   "metadata": {},
   "outputs": [],
   "source": [
    "x.std(ddof=0) - np.sqrt(sum((x - x.mean())**2)/(len(x)))"
   ]
  },
  {
   "cell_type": "code",
   "execution_count": null,
   "id": "366440b0",
   "metadata": {},
   "outputs": [
    {
     "data": {
      "text/plain": [
       "np.float64(0.0)"
      ]
     },
     "execution_count": 16,
     "metadata": {},
     "output_type": "execute_result"
    }
   ],
   "source": [
    "x.std(ddof=1) - np.sqrt(sum((x - x.mean())**2)/(len(x)-1)) # исправленнное выборочное отклонение"
   ]
  },
  {
   "cell_type": "code",
   "execution_count": 17,
   "id": "531e0a62",
   "metadata": {},
   "outputs": [
    {
     "data": {
      "text/plain": [
       "np.float64(0.0)"
      ]
     },
     "execution_count": 17,
     "metadata": {},
     "output_type": "execute_result"
    }
   ],
   "source": [
    "x.std() - x.std(ddof=1)"
   ]
  },
  {
   "cell_type": "code",
   "execution_count": 15,
   "id": "984b572d",
   "metadata": {},
   "outputs": [
    {
     "data": {
      "text/plain": [
       "Date\n",
       "2025-09-02 00:00:00-04:00    4559.20\n",
       "2025-09-03 00:00:00-04:00    4653.15\n",
       "2025-09-04 00:00:00-04:00    4488.96\n",
       "2025-09-05 00:00:00-04:00    4698.00\n",
       "2025-09-08 00:00:00-04:00    4796.05\n",
       "2025-09-09 00:00:00-04:00    4708.44\n",
       "Name: Open, dtype: float64"
      ]
     },
     "execution_count": 15,
     "metadata": {},
     "output_type": "execute_result"
    }
   ],
   "source": [
    "x*y"
   ]
  },
  {
   "cell_type": "code",
   "execution_count": 58,
   "id": "8ec617ef",
   "metadata": {},
   "outputs": [
    {
     "data": {
      "text/plain": [
       "np.float64(-6.277777777777777)"
      ]
     },
     "execution_count": 58,
     "metadata": {},
     "output_type": "execute_result"
    }
   ],
   "source": [
    "x.cov(y, ddof=0) "
   ]
  },
  {
   "cell_type": "code",
   "execution_count": 57,
   "id": "85ea26c4",
   "metadata": {},
   "outputs": [
    {
     "data": {
      "text/plain": [
       "np.float64(2.9103830456733704e-11)"
      ]
     },
     "execution_count": 57,
     "metadata": {},
     "output_type": "execute_result"
    }
   ],
   "source": [
    "x.cov(y, ddof=0) - ( x*y ).mean() + x.mean()*y.mean()"
   ]
  },
  {
   "cell_type": "code",
   "execution_count": 48,
   "id": "b5f63351",
   "metadata": {},
   "outputs": [
    {
     "data": {
      "text/plain": [
       "np.float64(-6.277777777777777)"
      ]
     },
     "execution_count": 48,
     "metadata": {},
     "output_type": "execute_result"
    }
   ],
   "source": [
    "x.cov(y, ddof=0)"
   ]
  },
  {
   "cell_type": "code",
   "execution_count": 55,
   "id": "5d3292ae",
   "metadata": {},
   "outputs": [
    {
     "data": {
      "text/plain": [
       "np.float64(5.551115123125783e-17)"
      ]
     },
     "execution_count": 55,
     "metadata": {},
     "output_type": "execute_result"
    }
   ],
   "source": [
    "x.corr(y, method='pearson') - x.cov(y, ddof=0)/(x.std(ddof=0)*y.std(ddof=0))"
   ]
  },
  {
   "cell_type": "code",
   "execution_count": 56,
   "id": "9f695fd7",
   "metadata": {},
   "outputs": [
    {
     "data": {
      "text/plain": [
       "np.float64(-0.4188864267427589)"
      ]
     },
     "execution_count": 56,
     "metadata": {},
     "output_type": "execute_result"
    }
   ],
   "source": [
    "x.corr(y, method='pearson')"
   ]
  },
  {
   "cell_type": "markdown",
   "id": "5c27688b",
   "metadata": {},
   "source": [
    "## Control Work 1"
   ]
  },
  {
   "cell_type": "code",
   "execution_count": 24,
   "id": "405d9dba",
   "metadata": {},
   "outputs": [],
   "source": [
    "import math\n",
    "from scipy.stats import pearsonr"
   ]
  },
  {
   "cell_type": "code",
   "execution_count": 28,
   "id": "e3286013",
   "metadata": {},
   "outputs": [],
   "source": [
    "# df"
   ]
  },
  {
   "cell_type": "code",
   "execution_count": 104,
   "id": "76d06c5d",
   "metadata": {},
   "outputs": [],
   "source": [
    "df = variant01.iloc[1:, :]\n",
    "n = df.shape[0]"
   ]
  },
  {
   "cell_type": "code",
   "execution_count": 105,
   "id": "ed6c806a",
   "metadata": {},
   "outputs": [
    {
     "data": {
      "text/html": [
       "<div>\n",
       "<style scoped>\n",
       "    .dataframe tbody tr th:only-of-type {\n",
       "        vertical-align: middle;\n",
       "    }\n",
       "\n",
       "    .dataframe tbody tr th {\n",
       "        vertical-align: top;\n",
       "    }\n",
       "\n",
       "    .dataframe thead th {\n",
       "        text-align: right;\n",
       "    }\n",
       "</style>\n",
       "<table border=\"1\" class=\"dataframe\">\n",
       "  <thead>\n",
       "    <tr style=\"text-align: right;\">\n",
       "      <th></th>\n",
       "      <th>X</th>\n",
       "      <th>Y</th>\n",
       "    </tr>\n",
       "    <tr>\n",
       "      <th>Date</th>\n",
       "      <th></th>\n",
       "      <th></th>\n",
       "    </tr>\n",
       "  </thead>\n",
       "  <tbody>\n",
       "    <tr>\n",
       "      <th>2023-04-01 00:00:00-04:00</th>\n",
       "      <td>0.16</td>\n",
       "      <td>0.26</td>\n",
       "    </tr>\n",
       "    <tr>\n",
       "      <th>2023-07-01 00:00:00-04:00</th>\n",
       "      <td>0.09</td>\n",
       "      <td>-0.02</td>\n",
       "    </tr>\n",
       "    <tr>\n",
       "      <th>2023-10-01 00:00:00-04:00</th>\n",
       "      <td>0.07</td>\n",
       "      <td>0.20</td>\n",
       "    </tr>\n",
       "    <tr>\n",
       "      <th>2024-01-01 00:00:00-05:00</th>\n",
       "      <td>0.08</td>\n",
       "      <td>0.19</td>\n",
       "    </tr>\n",
       "    <tr>\n",
       "      <th>2024-04-01 00:00:00-04:00</th>\n",
       "      <td>0.20</td>\n",
       "      <td>0.07</td>\n",
       "    </tr>\n",
       "    <tr>\n",
       "      <th>2024-07-01 00:00:00-04:00</th>\n",
       "      <td>-0.09</td>\n",
       "      <td>-0.04</td>\n",
       "    </tr>\n",
       "    <tr>\n",
       "      <th>2024-10-01 00:00:00-04:00</th>\n",
       "      <td>0.14</td>\n",
       "      <td>0.18</td>\n",
       "    </tr>\n",
       "    <tr>\n",
       "      <th>2025-01-01 00:00:00-05:00</th>\n",
       "      <td>-0.18</td>\n",
       "      <td>-0.13</td>\n",
       "    </tr>\n",
       "    <tr>\n",
       "      <th>2025-04-01 00:00:00-04:00</th>\n",
       "      <td>0.14</td>\n",
       "      <td>0.15</td>\n",
       "    </tr>\n",
       "    <tr>\n",
       "      <th>2025-07-01 00:00:00-04:00</th>\n",
       "      <td>0.37</td>\n",
       "      <td>0.00</td>\n",
       "    </tr>\n",
       "  </tbody>\n",
       "</table>\n",
       "</div>"
      ],
      "text/plain": [
       "                              X     Y\n",
       "Date                                 \n",
       "2023-04-01 00:00:00-04:00  0.16  0.26\n",
       "2023-07-01 00:00:00-04:00  0.09 -0.02\n",
       "2023-10-01 00:00:00-04:00  0.07  0.20\n",
       "2024-01-01 00:00:00-05:00  0.08  0.19\n",
       "2024-04-01 00:00:00-04:00  0.20  0.07\n",
       "2024-07-01 00:00:00-04:00 -0.09 -0.04\n",
       "2024-10-01 00:00:00-04:00  0.14  0.18\n",
       "2025-01-01 00:00:00-05:00 -0.18 -0.13\n",
       "2025-04-01 00:00:00-04:00  0.14  0.15\n",
       "2025-07-01 00:00:00-04:00  0.37  0.00"
      ]
     },
     "execution_count": 105,
     "metadata": {},
     "output_type": "execute_result"
    }
   ],
   "source": [
    "df"
   ]
  },
  {
   "cell_type": "code",
   "execution_count": 106,
   "id": "8a861be8",
   "metadata": {},
   "outputs": [
    {
     "name": "stdout",
     "output_type": "stream",
     "text": [
      "x_avg = 0.098; y_avg = 0.086\n"
     ]
    }
   ],
   "source": [
    "x_avg = df.X.mean()\n",
    "y_avg = df.Y.mean()\n",
    "print(f\"x_avg = {x_avg}; y_avg = {y_avg}\")"
   ]
  },
  {
   "cell_type": "code",
   "execution_count": 107,
   "id": "137bb341",
   "metadata": {},
   "outputs": [
    {
     "data": {
      "text/plain": [
       "0.007991111111111112"
      ]
     },
     "execution_count": 107,
     "metadata": {},
     "output_type": "execute_result"
    }
   ],
   "source": [
    "sum([num for num in (df.X-df.X.mean())*(df.Y - df.Y.mean())])*(1/(n-1))"
   ]
  },
  {
   "cell_type": "code",
   "execution_count": 108,
   "id": "7bf3a902",
   "metadata": {},
   "outputs": [
    {
     "name": "stdout",
     "output_type": "stream",
     "text": [
      "cov = 0.0079911\n"
     ]
    }
   ],
   "source": [
    "# выборочную ковариацию\n",
    "cov = round((1/(n-1))*sum([num for num in (df.X-df.X.mean())*(df.Y - df.Y.mean())]), 7)\n",
    "print(f\"cov = {cov}\")"
   ]
  },
  {
   "cell_type": "code",
   "execution_count": 109,
   "id": "837e0b84",
   "metadata": {},
   "outputs": [
    {
     "name": "stdout",
     "output_type": "stream",
     "text": [
      "sigmaX = 0.022840000000000003; sigmaY = 0.016493333333333332\n"
     ]
    }
   ],
   "source": [
    "# исправленную выборочную дисперсию\n",
    "sigmaX = df.X.std(ddof=1)\n",
    "sigmaY = df.Y.std(ddof=1)\n",
    "\n",
    "print(f\"sigmaX = {sigmaX**2}; sigmaY = {sigmaY**2}\")"
   ]
  },
  {
   "cell_type": "code",
   "execution_count": 88,
   "id": "643c3aae",
   "metadata": {},
   "outputs": [
    {
     "data": {
      "text/plain": [
       "0.011928888888888888"
      ]
     },
     "execution_count": 88,
     "metadata": {},
     "output_type": "execute_result"
    }
   ],
   "source": [
    "(1/(n-1))*sum([num**2 for num in df.X-df.X.mean()])"
   ]
  },
  {
   "cell_type": "code",
   "execution_count": 62,
   "id": "81481e40",
   "metadata": {},
   "outputs": [
    {
     "data": {
      "text/plain": [
       "0.1414213562373095"
      ]
     },
     "execution_count": 62,
     "metadata": {},
     "output_type": "execute_result"
    }
   ],
   "source": [
    "math.sqrt(0.02)"
   ]
  },
  {
   "cell_type": "code",
   "execution_count": 86,
   "id": "d026b254",
   "metadata": {},
   "outputs": [
    {
     "data": {
      "text/plain": [
       "np.float64(0.0)"
      ]
     },
     "execution_count": 86,
     "metadata": {},
     "output_type": "execute_result"
    }
   ],
   "source": [
    "math.sqrt((1/(n-1))*sum([num**2 for num in df.X-df.X.mean()])) - sigmaX"
   ]
  },
  {
   "cell_type": "code",
   "execution_count": 110,
   "id": "3bb0bfea",
   "metadata": {},
   "outputs": [
    {
     "name": "stdout",
     "output_type": "stream",
     "text": [
      "Correlation Matrix:\n",
      "          X         Y\n",
      "X  1.000000  0.411723\n",
      "Y  0.411723  1.000000\n"
     ]
    }
   ],
   "source": [
    "print(\"Correlation Matrix:\")\n",
    "print(df.corr())"
   ]
  },
  {
   "cell_type": "code",
   "execution_count": 75,
   "id": "209cfada",
   "metadata": {},
   "outputs": [
    {
     "name": "stdout",
     "output_type": "stream",
     "text": [
      "Pearson correlation coefficient: 0.4820072921591109\n",
      "P-value: 0.15831759111361604\n"
     ]
    }
   ],
   "source": [
    "# Calculate Pearson correlation and p-value\n",
    "correlation_coefficient, p_value = pearsonr(df.X, df.Y)\n",
    "print(f\"Pearson correlation coefficient: {correlation_coefficient}\")\n",
    "print(f\"P-value: {p_value}\")"
   ]
  },
  {
   "cell_type": "markdown",
   "id": "deb21293",
   "metadata": {},
   "source": [
    "## The Chi-Square Distribution"
   ]
  },
  {
   "cell_type": "markdown",
   "id": "598ddc85",
   "metadata": {},
   "source": [
    "### Packages"
   ]
  },
  {
   "cell_type": "code",
   "execution_count": 29,
   "id": "533351b5",
   "metadata": {},
   "outputs": [],
   "source": [
    "from scipy.stats import chi2\n",
    "import numpy as np\n",
    "import matplotlib.pyplot as plt"
   ]
  },
  {
   "cell_type": "markdown",
   "id": "0847ec91",
   "metadata": {},
   "source": [
    "### Generating"
   ]
  },
  {
   "cell_type": "code",
   "execution_count": 30,
   "id": "f36b367b",
   "metadata": {},
   "outputs": [],
   "source": [
    "df = 7 # Degrees of freedom\n",
    "\n",
    "# Generate random variates\n",
    "random_variates = chi2.rvs(df, size=1000)"
   ]
  },
  {
   "cell_type": "code",
   "execution_count": null,
   "id": "75c1ebf9",
   "metadata": {},
   "outputs": [],
   "source": [
    "# Calculate PDF for a range of values\n",
    "x = np.linspace(0, 20, 100)\n",
    "pdf_values = chi2.pdf(x, df)"
   ]
  },
  {
   "cell_type": "code",
   "execution_count": 33,
   "id": "6dbd2508",
   "metadata": {},
   "outputs": [
    {
     "name": "stdout",
     "output_type": "stream",
     "text": [
      "CDF at x=6 with df=7: 0.4602506496044429\n"
     ]
    }
   ],
   "source": [
    "# Calculate CDF for a specific value\n",
    "cdf_at_6 = chi2.cdf(6, df)\n",
    "print(f\"CDF at x=6 with df={df}: {cdf_at_6}\")"
   ]
  },
  {
   "cell_type": "code",
   "execution_count": 34,
   "id": "dff4d7ad",
   "metadata": {},
   "outputs": [
    {
     "name": "stdout",
     "output_type": "stream",
     "text": [
      "95th percentile with df=7: 14.067140449340169\n"
     ]
    }
   ],
   "source": [
    "# Calculate PPF for a specific probability\n",
    "ppf_at_95_percentile = chi2.ppf(0.95, df)\n",
    "print(f\"95th percentile with df={df}: {ppf_at_95_percentile}\")"
   ]
  },
  {
   "cell_type": "code",
   "execution_count": 35,
   "id": "113877c8",
   "metadata": {},
   "outputs": [
    {
     "data": {
      "image/png": "[encoded data removed]",
      "text/plain": [
       "<Figure size 640x480 with 1 Axes>"
      ]
     },
     "metadata": {},
     "output_type": "display_data"
    }
   ],
   "source": [
    "# Plotting the PDF and a histogram of generated samples\n",
    "plt.plot(x, pdf_values, label=f'PDF (df={df})')\n",
    "plt.hist(random_variates, bins='auto', density=True, alpha=0.6, label='Generated Samples')\n",
    "plt.title('Chi-Square Distribution')\n",
    "plt.xlabel('Value')\n",
    "plt.ylabel('Density')\n",
    "plt.legend()\n",
    "plt.show()"
   ]
  },
  {
   "cell_type": "markdown",
   "id": "dbc634a2",
   "metadata": {},
   "source": [
    "## The Student's t-distribution"
   ]
  },
  {
   "cell_type": "markdown",
   "id": "da91f85d",
   "metadata": {},
   "source": [
    "### Packages "
   ]
  },
  {
   "cell_type": "code",
   "execution_count": 20,
   "id": "730d7e18",
   "metadata": {},
   "outputs": [],
   "source": [
    "import yfinance as yf\n",
    "from scipy.stats import t\n",
    "\n",
    "import matplotlib.pyplot as plt\n",
    "import seaborn as sns\n",
    "import numpy as np"
   ]
  },
  {
   "cell_type": "markdown",
   "id": "d1f6fe57",
   "metadata": {},
   "source": [
    "### Generate Samples"
   ]
  },
  {
   "cell_type": "code",
   "execution_count": 21,
   "id": "0d97d47a",
   "metadata": {},
   "outputs": [],
   "source": [
    "# Define degrees of freedom\n",
    "df = 10\n",
    "\n",
    "# Generate random samples from the t-distribution\n",
    "samples = t.rvs(df, size=1000)"
   ]
  },
  {
   "cell_type": "code",
   "execution_count": 23,
   "id": "0d147062",
   "metadata": {},
   "outputs": [
    {
     "data": {
      "image/png": "[encoded data removed]",
      "text/plain": [
       "<Figure size 640x480 with 1 Axes>"
      ]
     },
     "metadata": {},
     "output_type": "display_data"
    }
   ],
   "source": [
    "# Plot the histogram of the samples\n",
    "plt.hist(samples, bins=30, density=True, alpha=0.6, color='g', label='Random Samples')\n",
    "plt.show()"
   ]
  },
  {
   "cell_type": "code",
   "execution_count": 24,
   "id": "9b6706b6",
   "metadata": {},
   "outputs": [
    {
     "data": {
      "image/png": "[encoded data removed]",
      "text/plain": [
       "<Figure size 640x480 with 1 Axes>"
      ]
     },
     "metadata": {},
     "output_type": "display_data"
    }
   ],
   "source": [
    "# Plot the PDF of the t-distribution\n",
    "x = np.linspace(min(samples), max(samples), 100)\n",
    "plt.plot(x, t.pdf(x, df), 'r-', lw=2, label='t-distribution PDF')\n",
    "\n",
    "plt.title(f'Student\\'s t-distribution (df={df})')\n",
    "plt.xlabel('Value')\n",
    "plt.ylabel('Density')\n",
    "plt.legend()\n",
    "plt.grid(True)\n",
    "plt.show()"
   ]
  },
  {
   "cell_type": "code",
   "execution_count": 25,
   "id": "0fca2d22",
   "metadata": {},
   "outputs": [
    {
     "name": "stdout",
     "output_type": "stream",
     "text": [
      "CDF at 1.5: 0.9177\n"
     ]
    }
   ],
   "source": [
    "value = 1.5\n",
    "probability = t.cdf(value, df)\n",
    "print(f\"CDF at {value}: {probability:.4f}\")"
   ]
  },
  {
   "cell_type": "code",
   "execution_count": 26,
   "id": "a86a5a02",
   "metadata": {},
   "outputs": [
    {
     "name": "stdout",
     "output_type": "stream",
     "text": [
      "PPF at 0.95: 1.8125\n"
     ]
    }
   ],
   "source": [
    "quantile = 0.95\n",
    "ppf_value = t.ppf(quantile, df)\n",
    "print(f\"PPF at {quantile}: {ppf_value:.4f}\")"
   ]
  },
  {
   "cell_type": "code",
   "execution_count": 27,
   "id": "aeef2552",
   "metadata": {},
   "outputs": [
    {
     "name": "stdout",
     "output_type": "stream",
     "text": [
      "95% Confidence Interval: (np.float64(-2.2281388519649385), np.float64(2.2281388519649385))\n"
     ]
    }
   ],
   "source": [
    "# Calculate a 95% confidence interval\n",
    "confidence_interval = t.interval(0.95, df)\n",
    "print(f\"95% Confidence Interval: {confidence_interval}\")"
   ]
  },
  {
   "cell_type": "markdown",
   "id": "bd565445",
   "metadata": {},
   "source": [
    "## Symbolic"
   ]
  },
  {
   "cell_type": "markdown",
   "id": "76b63096",
   "metadata": {},
   "source": [
    "### Packages"
   ]
  },
  {
   "cell_type": "code",
   "execution_count": null,
   "id": "1440fd1c",
   "metadata": {},
   "outputs": [],
   "source": [
    "from sympy import symbols, expand, integrate"
   ]
  },
  {
   "cell_type": "markdown",
   "id": "7212db98",
   "metadata": {},
   "source": [
    "### Examples"
   ]
  },
  {
   "cell_type": "code",
   "execution_count": null,
   "id": "7911aeba",
   "metadata": {},
   "outputs": [],
   "source": [
    "# Define symbolic variables\n",
    "x, y = symbols('x y')\n",
    "# Create a symbolic expression\n",
    "expr = (x + y)**2"
   ]
  },
  {
   "cell_type": "code",
   "execution_count": null,
   "id": "e1a710c1",
   "metadata": {},
   "outputs": [],
   "source": [
    "# Expand the expression\n",
    "expanded_expr = expand(expr)\n",
    "print(f\"Expanded expression: {expanded_expr}\")"
   ]
  },
  {
   "cell_type": "code",
   "execution_count": null,
   "id": "3d4552f1",
   "metadata": {},
   "outputs": [],
   "source": [
    "# Integrate the expression with respect to x\n",
    "integrated_expr = integrate(expanded_expr, x)\n",
    "print(f\"Integrated expression: {integrated_expr}\")"
   ]
  },
  {
   "cell_type": "markdown",
   "id": "cb3fa542",
   "metadata": {},
   "source": [
    "## References"
   ]
  },
  {
   "cell_type": "markdown",
   "id": "cf3c943d",
   "metadata": {},
   "source": []
  },
  {
   "cell_type": "code",
   "execution_count": null,
   "id": "5b6cff81",
   "metadata": {},
   "outputs": [],
   "source": []
  }
 ],
 "metadata": {
  "kernelspec": {
   "display_name": "kaz-gu",
   "language": "python",
   "name": "python3"
  },
  "language_info": {
   "codemirror_mode": {
    "name": "ipython",
    "version": 3
   },
   "file_extension": ".py",
   "mimetype": "text/x-python",
   "name": "python",
   "nbconvert_exporter": "python",
   "pygments_lexer": "ipython3",
   "version": "3.13.7"
  }
 },
 "nbformat": 4,
 "nbformat_minor": 5
}
