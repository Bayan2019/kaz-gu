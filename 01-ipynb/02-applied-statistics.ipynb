{
 "cells": [
  {
   "cell_type": "markdown",
   "id": "330c91c1",
   "metadata": {},
   "source": [
    "## Packages"
   ]
  },
  {
   "cell_type": "code",
   "execution_count": 165,
   "id": "411d9ddb",
   "metadata": {},
   "outputs": [],
   "source": [
    "import yfinance as yf\n",
    "import pandas as pd\n",
    "import numpy as np\n",
    "import matplotlib.pyplot as plt\n",
    "\n",
    "# from sklearn.linear_model import LinearRegression\n",
    "import statsmodels.api as sm"
   ]
  },
  {
   "cell_type": "code",
   "execution_count": 49,
   "id": "8e225f05",
   "metadata": {},
   "outputs": [],
   "source": [
    "from scipy.stats import t, f"
   ]
  },
  {
   "cell_type": "markdown",
   "id": "8aad37b0",
   "metadata": {},
   "source": [
    "## Collecting Data"
   ]
  },
  {
   "cell_type": "code",
   "execution_count": null,
   "id": "56022ab2",
   "metadata": {},
   "outputs": [],
   "source": [
    "eurusd = yf.Ticker(\"EURUSD=X\").history(start=\"2024-01-01\", end=\"2024-02-01\", interval=\"1d\")\n",
    "gbpusd = yf.Ticker(\"GBPUSD=X\").history(start=\"2024-01-01\", end=\"2024-02-01\", interval=\"1d\")\n",
    "# eurusd.to_csv('../00-data/eurusd.csv')\n",
    "# gbpusd.to_csv('../00-data/gbpusd.csv')"
   ]
  },
  {
   "cell_type": "code",
   "execution_count": 2,
   "id": "9947ba62",
   "metadata": {},
   "outputs": [],
   "source": [
    "# apple = yf.Ticker(\"AAPL\").history(start=\"2025-06-01\", end=\"2025-06-20\", interval=\"1d\")\n",
    "apple = yf.Ticker(\"AAPL\").history(start=\"1996-06-01\", end=\"1996-06-16\", interval=\"1d\")\n",
    "microsoft = yf.Ticker(\"MSFT\").history(start=\"1996-06-01\", end=\"1996-06-16\", interval=\"1d\")\n",
    "\n",
    "google = yf.Ticker(\"GOOG\").history(start=\"2021-06-01\", end=\"2025-06-16\", interval=\"1d\")\n",
    "amazon = yf.Ticker(\"AMZN\").history(start=\"2025-06-01\", end=\"2025-06-16\", interval=\"1d\")"
   ]
  },
  {
   "cell_type": "code",
   "execution_count": 85,
   "id": "2dc20180",
   "metadata": {},
   "outputs": [],
   "source": [
    "byd = yf.Ticker(\"BYDDY\").history(start=\"2025-09-01\", end=\"2025-09-10\", interval=\"1d\")\n",
    "tesla = yf.Ticker(\"TSLA\").history(start=\"2025-09-01\", end=\"2025-09-10\", interval=\"1d\")"
   ]
  },
  {
   "cell_type": "code",
   "execution_count": 116,
   "id": "fb0349ad",
   "metadata": {},
   "outputs": [
    {
     "data": {
      "text/plain": [
       "Date\n",
       "2025-09-02 00:00:00-04:00    117.0\n",
       "2025-09-03 00:00:00-04:00    117.0\n",
       "2025-09-04 00:00:00-04:00    117.0\n",
       "2025-09-05 00:00:00-04:00    119.0\n",
       "2025-09-08 00:00:00-04:00    121.0\n",
       "2025-09-09 00:00:00-04:00    123.0\n",
       "Name: Open, dtype: float64"
      ]
     },
     "execution_count": 116,
     "metadata": {},
     "output_type": "execute_result"
    }
   ],
   "source": [
    "coke = yf.Ticker(\"COKE\").history(start=\"2025-09-01\", end=\"2025-09-10\", interval=\"1d\")\n",
    "coke.Open.round()"
   ]
  },
  {
   "cell_type": "code",
   "execution_count": 117,
   "id": "a4b7776a",
   "metadata": {},
   "outputs": [
    {
     "data": {
      "text/plain": [
       "Date\n",
       "2025-09-02 00:00:00-04:00    156.0\n",
       "2025-09-03 00:00:00-04:00    148.0\n",
       "2025-09-04 00:00:00-04:00    148.0\n",
       "2025-09-05 00:00:00-04:00    146.0\n",
       "2025-09-08 00:00:00-04:00    146.0\n",
       "2025-09-09 00:00:00-04:00    141.0\n",
       "Name: Open, dtype: float64"
      ]
     },
     "execution_count": 117,
     "metadata": {},
     "output_type": "execute_result"
    }
   ],
   "source": [
    "pepsi = yf.Ticker(\"PEP\").history(start=\"2025-09-01\", end=\"2025-09-10\", interval=\"1d\")\n",
    "pepsi.Open.round()"
   ]
  },
  {
   "cell_type": "code",
   "execution_count": 126,
   "id": "1aba93b0",
   "metadata": {},
   "outputs": [
    {
     "data": {
      "text/plain": [
       "Date\n",
       "2025-09-02 00:00:00-04:00    29.0\n",
       "2025-09-03 00:00:00-04:00    28.0\n",
       "2025-09-04 00:00:00-04:00    29.0\n",
       "2025-09-05 00:00:00-04:00    29.0\n",
       "2025-09-08 00:00:00-04:00    28.0\n",
       "2025-09-09 00:00:00-04:00    27.0\n",
       "Name: Open, dtype: float64"
      ]
     },
     "execution_count": 126,
     "metadata": {},
     "output_type": "execute_result"
    }
   ],
   "source": [
    "pepper = yf.Ticker(\"KDP\").history(start=\"2025-09-01\", end=\"2025-09-10\", interval=\"1d\")\n",
    "pepper.Open.round()"
   ]
  },
  {
   "cell_type": "code",
   "execution_count": 127,
   "id": "e57a3812",
   "metadata": {},
   "outputs": [
    {
     "data": {
      "text/plain": [
       "Date\n",
       "2025-09-02 00:00:00-04:00    62.0\n",
       "2025-09-03 00:00:00-04:00    62.0\n",
       "2025-09-04 00:00:00-04:00    64.0\n",
       "2025-09-05 00:00:00-04:00    64.0\n",
       "2025-09-08 00:00:00-04:00    62.0\n",
       "2025-09-09 00:00:00-04:00    63.0\n",
       "Name: Open, dtype: float64"
      ]
     },
     "execution_count": 127,
     "metadata": {},
     "output_type": "execute_result"
    }
   ],
   "source": [
    "monster = yf.Ticker(\"MNST\").history(start=\"2025-09-01\", end=\"2025-09-10\", interval=\"1d\")\n",
    "monster.Open.round()"
   ]
  },
  {
   "cell_type": "markdown",
   "id": "d330a5cd",
   "metadata": {},
   "source": [
    "## Ordinary Least Squares OLS"
   ]
  },
  {
   "cell_type": "markdown",
   "id": "f33b4453",
   "metadata": {},
   "source": [
    "Linear regression is a fundamental statistical technique used to model the relationship between a dependent variable (also known as the response or target variable) and one or more independent variables (also known as predictors or features). "
   ]
  },
  {
   "cell_type": "markdown",
   "id": "38f5fd39",
   "metadata": {},
   "source": [
    "The **Gauss-Markov theorem** states \n",
    "that **Ordinary Least Squares (OLS)** estimators \n",
    "are the **best linear unbiased estimators (BLUE)** \n",
    "in a linear regression model, \n",
    "meaning they have the minimum variance among all linear unbiased estimators."
   ]
  },
  {
   "cell_type": "markdown",
   "id": "b70a75aa",
   "metadata": {},
   "source": [
    "### Hypothesis Testing"
   ]
  },
  {
   "cell_type": "code",
   "execution_count": 138,
   "id": "4418b993",
   "metadata": {},
   "outputs": [],
   "source": [
    "from scipy.stats import t, f"
   ]
  },
  {
   "cell_type": "markdown",
   "id": "3da014ba",
   "metadata": {},
   "source": [
    "In statistics, a test of significance is a method of reaching a conclusion to either reject or accept certain claims based on the data. \n",
    "\n",
    "In the case of regression analysis, it is used to determine whether an independent variable is significant in explaining the variance of the dependent variable."
   ]
  },
  {
   "cell_type": "markdown",
   "id": "1536b9d1",
   "metadata": {},
   "source": [
    "$$y = \\beta x + \\alpha$$"
   ]
  },
  {
   "cell_type": "markdown",
   "id": "25e133d5",
   "metadata": {},
   "source": [
    "* The **null hypothesis H0** would be: $\\beta=0$ i.e predictor $x$ is not able to explain the variance of the independent variable $y$.\n",
    "* Alternative hypothesis **H1** would be: $\\beta\\neq 0$ i.e $x$ is significant in predicting the value of $y$."
   ]
  },
  {
   "cell_type": "markdown",
   "id": "b6869d61",
   "metadata": {},
   "source": [
    "#### t-Distribution"
   ]
  },
  {
   "cell_type": "code",
   "execution_count": null,
   "id": "4de3eceb",
   "metadata": {},
   "outputs": [],
   "source": [
    "# Define degrees of freedom\n",
    "df = 3 # For a sample size of 30 (n-1)"
   ]
  },
  {
   "cell_type": "code",
   "execution_count": 5,
   "id": "b93df629",
   "metadata": {},
   "outputs": [
    {
     "name": "stdout",
     "output_type": "stream",
     "text": [
      "PDF at x=1.5: 0.12893966337578505\n"
     ]
    }
   ],
   "source": [
    "# Calculate PDF at a specific value\n",
    "x_val = 1.5\n",
    "pdf_value = t.pdf(x_val, df)\n",
    "print(f\"PDF at x={x_val}: {pdf_value}\")"
   ]
  },
  {
   "cell_type": "code",
   "execution_count": 6,
   "id": "139e6d38",
   "metadata": {},
   "outputs": [
    {
     "name": "stdout",
     "output_type": "stream",
     "text": [
      "CDF at x=1.5: 0.9277881519798071\n"
     ]
    }
   ],
   "source": [
    "# Calculate CDF at a specific value\n",
    "cdf_value = t.cdf(x_val, df)\n",
    "print(f\"CDF at x={x_val}: {cdf_value}\")"
   ]
  },
  {
   "cell_type": "code",
   "execution_count": null,
   "id": "6bab1d28",
   "metadata": {},
   "outputs": [
    {
     "name": "stdout",
     "output_type": "stream",
     "text": [
      "Critical t-value for 95% CI: 2.045229642132703\n"
     ]
    }
   ],
   "source": [
    "# Find the critical t-value for a 95% confidence interval (two-tailed)\n",
    "# This means alpha/2 = 0.025 in each tail, so we look for 0.975\n",
    "critical_t_value = t.ppf(0.975, df)\n",
    "# Calculates the Percent Point Function (PPF), also known as the quantile function or inverse CDF. \n",
    "# This gives the value x for a given cumulative probability q.\n",
    "print(f\"Critical t-value for 95% CI: {critical_t_value}\")"
   ]
  },
  {
   "cell_type": "code",
   "execution_count": 164,
   "id": "ce2fd6ba",
   "metadata": {},
   "outputs": [
    {
     "data": {
      "image/png": "[encoded data removed]",
      "text/plain": [
       "<Figure size 640x480 with 1 Axes>"
      ]
     },
     "metadata": {},
     "output_type": "display_data"
    }
   ],
   "source": [
    "tvalues = np.linspace(-4, 4, 100)\n",
    "dfs = np.arange(start=3, stop=30, step=6)\n",
    "\n",
    "for df in dfs:\n",
    "    plt.plot(tvalues, t.pdf(tvalues, df),  color=(1 - df/np.max(dfs), 0, df/np.max(dfs)), label=f\"PDF with df={df}\")\n",
    "    # plt.plot(tvalues, t.pdf(tvalues, 7), color='green', label='PDF')\n",
    "plt.title(\"Student's t-Distribution\")\n",
    "plt.xlabel('Value')\n",
    "plt.ylabel('Density')\n",
    "plt.legend()\n",
    "plt.show()"
   ]
  },
  {
   "cell_type": "markdown",
   "id": "13469881",
   "metadata": {},
   "source": [
    "#### F-statistics"
   ]
  },
  {
   "cell_type": "markdown",
   "id": "3cd7af18",
   "metadata": {},
   "source": [
    "Since here we have only one predictor a **T-test** should be enough. \n",
    "However, in reality, our model is going to include a number of independent variables. \n",
    "This is where **F-statistic** comes into play."
   ]
  },
  {
   "cell_type": "markdown",
   "id": "9480e9bf",
   "metadata": {},
   "source": [
    "An insignificant **F-test** implies that the predictors have no linear relationship with the target variable."
   ]
  },
  {
   "cell_type": "markdown",
   "id": "1de7ae55",
   "metadata": {},
   "source": [
    "**F-statistics** is based on the ratio of two variances: the explained variance ($(\\hat{y}-\\bar{y})$ due to the model) and the unexplained variance ($(y-\\bar{y})$ residuals). \n",
    "In other words, **F-statistics** compares the explained variance (due to the model) and the unexplained variance (residuals). \n",
    "By comparing these variances, **F-statistics** helps us determine whether the regression model significantly explains the variation in the dependent variable or if the variation can be attributed to random chance."
   ]
  },
  {
   "cell_type": "markdown",
   "id": "bf787d11",
   "metadata": {},
   "source": [
    "The **F-statistic** follows an **F-distribution**, and its value helps to determine the probability (**p-value**) of observing such a statistic if **the null hypothesis** is true \n",
    "(i.e., no relationship between the dependent and independent variables). \n",
    "If the **p-value** is smaller than a predetermined significance level (e.g., 0.05), the null hypothesis is rejected, \n",
    "and we conclude that the regression model is statistically significant."
   ]
  },
  {
   "cell_type": "code",
   "execution_count": 166,
   "id": "b286dc3b",
   "metadata": {},
   "outputs": [
    {
     "name": "stdout",
     "output_type": "stream",
     "text": [
      "PDF at 1.2: 0.5626124566227062\n"
     ]
    }
   ],
   "source": [
    "pdf_value = f.pdf(1.2, dfn=10, dfd=20)\n",
    "print(f\"PDF at 1.2: {pdf_value}\")"
   ]
  },
  {
   "cell_type": "code",
   "execution_count": 170,
   "id": "5cd48aa7",
   "metadata": {},
   "outputs": [
    {
     "name": "stdout",
     "output_type": "stream",
     "text": [
      "CDF at 14.87: 0.9691877617925359\n",
      "1-CDF at 14.87: 0.03081223820746415\n"
     ]
    }
   ],
   "source": [
    "cdf_value = f.cdf(14.87, dfn=1, dfd=3)\n",
    "print(f\"CDF at 14.87: {cdf_value}\")\n",
    "print(f\"1-CDF at 14.87: {1-cdf_value}\")\n"
   ]
  },
  {
   "cell_type": "code",
   "execution_count": 178,
   "id": "5620d9bd",
   "metadata": {},
   "outputs": [
    {
     "name": "stdout",
     "output_type": "stream",
     "text": [
      "96.91877th percentile: 14.869976997349806\n"
     ]
    }
   ],
   "source": [
    "critical_value = f.ppf(0.9691877, dfn=1, dfd=3)\n",
    "print(f\"96.91877th percentile: {critical_value}\")"
   ]
  },
  {
   "cell_type": "code",
   "execution_count": 179,
   "id": "c53da65e",
   "metadata": {},
   "outputs": [
    {
     "name": "stdout",
     "output_type": "stream",
     "text": [
      "Random samples: [0.08597943 0.55072304 0.1722799  0.64293949 2.4631295 ]\n"
     ]
    }
   ],
   "source": [
    "random_samples = f.rvs(dfn=1, dfd=3, size=5)\n",
    "print(f\"Random samples: {random_samples}\")"
   ]
  },
  {
   "cell_type": "markdown",
   "id": "621b7157",
   "metadata": {},
   "source": [
    "* `dfn`: Degrees of freedom for the numerator (often associated with the variance of the group means in ANOVA).\n",
    "* `dfd`: Degrees of freedom for the denominator (often associated with the variance within groups in ANOVA)."
   ]
  },
  {
   "cell_type": "code",
   "execution_count": null,
   "id": "22d82bf0",
   "metadata": {},
   "outputs": [],
   "source": [
    "# f\n",
    "f(1, 3).ppf(0.99)"
   ]
  },
  {
   "cell_type": "markdown",
   "id": "e668d6ea",
   "metadata": {},
   "source": [
    "* If the **p-value** associated with the **F-statistic** is ≥ 0.05: Then there is no relationship between ANY of the independent variables and Y\n",
    "* If the **p-value** associated with the **F-statistic** < 0.05: Then, AT LEAST 1 independent variable is related to Y"
   ]
  },
  {
   "cell_type": "markdown",
   "id": "0f0d5ac4",
   "metadata": {},
   "source": [
    "In **F-test** hypothesis testing for linear regression, the **F-statistic** is primarily assessed by comparing it against a critical value from the **F-distribution**, based on the model’s and error’s degrees of freedom and a chosen significance level, like 0.05. \n",
    "\n",
    "Additionally, the **p-value** associated with the **F-statistic**, typically calculated using statistical software, plays a key role; if it’s below the significance threshold, it indicates the model’s statistical significance, leading to the rejection of the null hypothesis."
   ]
  },
  {
   "cell_type": "markdown",
   "id": "eff2f041",
   "metadata": {},
   "source": [
    "##### Simple"
   ]
  },
  {
   "cell_type": "code",
   "execution_count": 205,
   "id": "d8fb31d4",
   "metadata": {},
   "outputs": [
    {
     "data": {
      "image/png": "[encoded data removed]",
      "text/plain": [
       "<Figure size 640x480 with 1 Axes>"
      ]
     },
     "metadata": {},
     "output_type": "display_data"
    }
   ],
   "source": [
    "fvalues = np.linspace(0.8, 2, 500)\n",
    "\n",
    "dfs = np.arange(start=3, stop=30, step=6)\n",
    "\n",
    "for df in dfs:\n",
    "    pvalues = f.pdf(fvalues, dfn=1, dfd=df)\n",
    "    plt.plot(fvalues, pvalues,  color=(1 - df/np.max(dfs), 0, df/np.max(dfs)), label=f\"PDF with df={df}\")\n",
    "\n",
    "# plt.plot(fvalues, pvalues)\n",
    "plt.legend()\n",
    "plt.show()"
   ]
  },
  {
   "cell_type": "markdown",
   "id": "9ca22295",
   "metadata": {},
   "source": [
    "##### Generalized"
   ]
  },
  {
   "cell_type": "code",
   "execution_count": 206,
   "id": "3c60325e",
   "metadata": {},
   "outputs": [
    {
     "data": {
      "image/png": "[encoded data removed]",
      "text/plain": [
       "<Figure size 640x480 with 1 Axes>"
      ]
     },
     "metadata": {},
     "output_type": "display_data"
    }
   ],
   "source": [
    "fvalues = np.linspace(0.01, 5, 500)\n",
    "\n",
    "dfs = np.arange(start=5, stop=40, step=6)\n",
    "\n",
    "for df in dfs:\n",
    "    pvalues = f.pdf(fvalues, dfn=4, dfd=df)\n",
    "    plt.plot(fvalues, pvalues,  color=(1 - df/np.max(dfs), 0, df/np.max(dfs)), label=f\"PDF with df={df}\")\n",
    "\n",
    "# plt.plot(fvalues, pvalues)\n",
    "plt.legend()\n",
    "plt.show()"
   ]
  },
  {
   "cell_type": "markdown",
   "id": "3e6f2410",
   "metadata": {},
   "source": [
    "### 2D Playground"
   ]
  },
  {
   "cell_type": "code",
   "execution_count": null,
   "id": "433f2b2c",
   "metadata": {},
   "outputs": [],
   "source": [
    "# x = coke.Open.round().values #.reshape(-1, 1)\n",
    "# y = pepsi.Open.round().values\n",
    "# x = np.array([103, 127, 126, 124, 124])\n",
    "# y = np.array([26, 24, 25, 26, 27]) \n",
    "# x = np.array([9, 12, 4, 3, 10])\n",
    "# y = np.array([80, 82, 65, 62, 90]) \n",
    "# x = np.array([8, 10, 5, 5, 10])\n",
    "# y = np.array([85, 85, 68, 65, 90]) \n",
    "x = np.array([209, 232, 259, 258, 286])\n",
    "y = np.array([30, 34, 45, 35, 53]) "
   ]
  },
  {
   "cell_type": "code",
   "execution_count": 130,
   "id": "b1e32d26",
   "metadata": {},
   "outputs": [
    {
     "name": "stdout",
     "output_type": "stream",
     "text": [
      "Σ xy = 50001\n",
      "Σ x = 1244\n",
      "Σ y = 197\n",
      "Σ x^2 = 312946\n",
      "Σ y^2 = 8115\n"
     ]
    }
   ],
   "source": [
    "print(f\"\\u03A3 xy = {np.inner(x, y)}\")\n",
    "print(f\"\\u03A3 x = {np.sum(x)}\")\n",
    "print(f\"\\u03A3 y = {np.sum(y)}\")\n",
    "print(f\"\\u03A3 x^2 = {sum([num ** 2 for num in x])}\")\n",
    "print(f\"\\u03A3 y^2 = {sum([num ** 2 for num in y])}\")"
   ]
  },
  {
   "cell_type": "code",
   "execution_count": 131,
   "id": "c387355a",
   "metadata": {},
   "outputs": [
    {
     "data": {
      "text/plain": [
       "np.float64(0.2871350471094568)"
      ]
     },
     "execution_count": 131,
     "metadata": {},
     "output_type": "execute_result"
    }
   ],
   "source": [
    "beta = (len(x)*np.inner(x, y)-np.sum(x)*np.sum(y))/(len(x)*sum([num ** 2 for num in x]) - np.sum(x)*np.sum(x))\n",
    "beta"
   ]
  },
  {
   "cell_type": "code",
   "execution_count": 132,
   "id": "497c6521",
   "metadata": {},
   "outputs": [
    {
     "data": {
      "text/plain": [
       "np.float64(-32.039199720832855)"
      ]
     },
     "execution_count": 132,
     "metadata": {},
     "output_type": "execute_result"
    }
   ],
   "source": [
    "# beta = 2.771\n",
    "alpha = (np.sum(y) - beta * np.sum(x))/len(x)\n",
    "alpha"
   ]
  },
  {
   "cell_type": "code",
   "execution_count": 93,
   "id": "55438727",
   "metadata": {},
   "outputs": [
    {
     "name": "stdout",
     "output_type": "stream",
     "text": [
      "Σ  e^2 = 94.79740251045317\n",
      "σ^2 = 1/(n-2)Σ e^2 =  31.599134170151057\n",
      "σ = 5.621310716385553\n"
     ]
    }
   ],
   "source": [
    "e = y - alpha - beta * x # unbiased estimate of error\n",
    "sigma2 = sum([num ** 2 for num in e])/(len(x)-2)\n",
    "sigma = np.sqrt(sum([num ** 2 for num in e])/(len(x)-2))\n",
    "\n",
    "print(f\"\\u03A3  e^2 = {sum([num ** 2 for num in e])}\")\n",
    "print(f\"\\u03C3^2 = 1/(n-2)\\u03A3 e^2 =  {sum([num ** 2 for num in e])/(len(x)-2)}\")\n",
    "print(f\"\\u03C3 = {np.sqrt(sum([num ** 2 for num in e])/(len(x)-2))}\")"
   ]
  },
  {
   "cell_type": "code",
   "execution_count": 95,
   "id": "411f157a",
   "metadata": {},
   "outputs": [
    {
     "name": "stdout",
     "output_type": "stream",
     "text": [
      "σ^2_b = σ^2 / Σ (x-x_avg)^2=  0.5163257217344944\n",
      "σ_b =  0.7185580851500416\n"
     ]
    }
   ],
   "source": [
    "sigma_b = np.sqrt( sigma2/sum( [ num**2 for num in (x-x.mean()) ] ) )\n",
    "\n",
    "print(f\"\\u03C3^2_b = \\u03C3^2 / \\u03A3 (x-x_avg)^2=  {sigma2/sum( [num**2 for num in (x-x.mean())])}\")\n",
    "print(f\"\\u03C3_b =  {np.sqrt(sigma2/sum( [num**2 for num in (x-x.mean())]))}\")"
   ]
  },
  {
   "cell_type": "code",
   "execution_count": 96,
   "id": "b600a148",
   "metadata": {},
   "outputs": [
    {
     "name": "stdout",
     "output_type": "stream",
     "text": [
      "σ^2_a = σ^2Σ x^2/ nΣ (x-x_avg)^2=  36.14280052141461\n",
      "σ_a =  6.011888265879083\n"
     ]
    }
   ],
   "source": [
    "sigma_a = np.sqrt( sigma2 * sum ([num**2 for num in x]) / (len(x) * sum([num**2 for num in x-x.mean()])) )\n",
    "\n",
    "print(f\"\\u03C3^2_a = \\u03C3^2\\u03A3 x^2/ n\\u03A3 (x-x_avg)^2=  {sigma_a**2}\")\n",
    "print(f\"\\u03C3_a =  {sigma_a}\")"
   ]
  },
  {
   "cell_type": "code",
   "execution_count": 139,
   "id": "0aac2583",
   "metadata": {},
   "outputs": [
    {
     "name": "stdout",
     "output_type": "stream",
     "text": [
      "σ_b = 0.7185580851500416,    σ_a = 6.011888265879083\n"
     ]
    }
   ],
   "source": [
    "print(f\"\\u03C3_b = {sigma_b},    \\u03C3_a = {sigma_a}\")"
   ]
  },
  {
   "cell_type": "code",
   "execution_count": null,
   "id": "2348fa77",
   "metadata": {},
   "outputs": [],
   "source": [
    "print(f\"TSS = {sum([num**2 for num in (y-np.mean(y))])}\")\n",
    "print(f\"RSS = {sum([num**2 for num in (beta*x+alpha-np.mean(y))])}\")"
   ]
  },
  {
   "cell_type": "code",
   "execution_count": null,
   "id": "c2642804",
   "metadata": {},
   "outputs": [
    {
     "name": "stdout",
     "output_type": "stream",
     "text": [
      "                            OLS Regression Results                            \n",
      "==============================================================================\n",
      "Dep. Variable:                      y   R-squared:                       0.832\n",
      "Model:                            OLS   Adj. R-squared:                  0.776\n",
      "Method:                 Least Squares   F-statistic:                     14.87\n",
      "Date:                Sat, 11 Oct 2025   Prob (F-statistic):             0.0308\n",
      "Time:                        13:58:51   Log-Likelihood:                -14.450\n",
      "No. Observations:                   5   AIC:                             32.90\n",
      "Df Residuals:                       3   BIC:                             32.12\n",
      "Df Model:                           1                                         \n",
      "Covariance Type:            nonrobust                                         \n",
      "==============================================================================\n",
      "                 coef    std err          t      P>|t|      [0.025      0.975]\n",
      "------------------------------------------------------------------------------\n",
      "const         54.7386      6.012      9.105      0.003      35.606      73.871\n",
      "x1             2.7712      0.719      3.857      0.031       0.484       5.058\n",
      "==============================================================================\n",
      "Omnibus:                          nan   Durbin-Watson:                   1.483\n",
      "Prob(Omnibus):                    nan   Jarque-Bera (JB):                0.269\n",
      "Skew:                           0.517   Prob(JB):                        0.874\n",
      "Kurtosis:                       2.526   Cond. No.                         20.2\n",
      "==============================================================================\n",
      "\n",
      "Notes:\n",
      "[1] Standard Errors assume that the covariance matrix of the errors is correctly specified.\n"
     ]
    },
    {
     "name": "stderr",
     "output_type": "stream",
     "text": [
      "/Users/bayan/workspace/github.com/Bayan2019/kaz-gu/.venv/lib/python3.13/site-packages/statsmodels/stats/stattools.py:74: ValueWarning: omni_normtest is not valid with less than 8 observations; 5 samples were given.\n",
      "  warn(\"omni_normtest is not valid with less than 8 observations; %i \"\n"
     ]
    }
   ],
   "source": [
    "# 2. Add a constant to the independent variable for the intercept\n",
    "# This creates the design matrix for statsmodels\n",
    "X_with_intercept = sm.add_constant(x)\n",
    "# 3. Create and fit the OLS (Ordinary Least Squares) model\n",
    "model = sm.OLS(y, X_with_intercept)\n",
    "results = model.fit()\n",
    "# 4. Print the detailed summary\n",
    "print(results.summary())"
   ]
  },
  {
   "cell_type": "code",
   "execution_count": null,
   "id": "551cc39f",
   "metadata": {},
   "outputs": [
    {
     "name": "stdout",
     "output_type": "stream",
     "text": [
      "-0.49151692115316026, 6.034000581283879\n"
     ]
    }
   ],
   "source": [
    "palpha = 0.01\n",
    "print(f\"{beta + t.ppf(palpha, len(x)-2)*sigma_b}, {beta - t.ppf(palpha, len(x)-2)*sigma_b}\")"
   ]
  },
  {
   "cell_type": "code",
   "execution_count": null,
   "id": "a9bcedd6",
   "metadata": {},
   "outputs": [
    {
     "name": "stdout",
     "output_type": "stream",
     "text": [
      "27.442201766312266, 82.03859823368774\n"
     ]
    }
   ],
   "source": [
    "palpha = 0.01\n",
    "print(f\"{alpha + t.ppf(palpha, len(x)-2)*sigma_a}, {alpha - t.ppf(palpha, len(x)-2)*sigma_a}\")"
   ]
  },
  {
   "cell_type": "markdown",
   "id": "f1ca2bac",
   "metadata": {},
   "source": [
    "### 3D Playground"
   ]
  },
  {
   "cell_type": "code",
   "execution_count": 150,
   "id": "36c0195a",
   "metadata": {},
   "outputs": [],
   "source": [
    "# x = coke.Open.round().values #.reshape(-1, 1)\n",
    "y = np.array([60, 36, 36, 15, 90])\n",
    "x1 = np.array([40, 55, 45, 30, 30])\n",
    "x2 = np.array([3, 6, 5, 3.5, 1.5])"
   ]
  },
  {
   "cell_type": "code",
   "execution_count": 151,
   "id": "7ebb6f6d",
   "metadata": {},
   "outputs": [],
   "source": [
    "x = np.array([x1, x2]) @ np.array([x1, x2]).T"
   ]
  },
  {
   "cell_type": "code",
   "execution_count": 164,
   "id": "398d01c8",
   "metadata": {},
   "outputs": [
    {
     "data": {
      "text/plain": [
       "array([[8450. ,  825. ],\n",
       "       [ 825. ,   84.5]])"
      ]
     },
     "execution_count": 164,
     "metadata": {},
     "output_type": "execute_result"
    }
   ],
   "source": [
    "x"
   ]
  },
  {
   "cell_type": "code",
   "execution_count": 152,
   "id": "115d1ff0",
   "metadata": {},
   "outputs": [
    {
     "data": {
      "text/plain": [
       "array([[ 0.00252994, -0.0247006 ],\n",
       "       [-0.0247006 ,  0.25299401]])"
      ]
     },
     "execution_count": 152,
     "metadata": {},
     "output_type": "execute_result"
    }
   ],
   "source": [
    "np.linalg.inv(x)"
   ]
  },
  {
   "cell_type": "code",
   "execution_count": 154,
   "id": "c6a6963c",
   "metadata": {},
   "outputs": [
    {
     "data": {
      "text/plain": [
       "array([[1.00000000e+00, 3.05311332e-16],\n",
       "       [6.10622664e-16, 1.00000000e+00]])"
      ]
     },
     "execution_count": 154,
     "metadata": {},
     "output_type": "execute_result"
    }
   ],
   "source": [
    "np.linalg.inv(x) @ x"
   ]
  },
  {
   "cell_type": "code",
   "execution_count": 158,
   "id": "226fa5be",
   "metadata": {},
   "outputs": [],
   "source": [
    "# Convert to pandas DataFrame for easier handling, especially with the formula API\n",
    "df = pd.DataFrame(np.array([x1, x2]).T, columns=['x1', 'x2'])\n",
    "df['y'] = y"
   ]
  },
  {
   "cell_type": "code",
   "execution_count": 179,
   "id": "96ed7d64",
   "metadata": {},
   "outputs": [
    {
     "data": {
      "text/plain": [
       "array([[ 1.00000000e+00,  2.27040609e-14],\n",
       "       [-2.98372438e-16,  1.00000000e+00]])"
      ]
     },
     "execution_count": 179,
     "metadata": {},
     "output_type": "execute_result"
    }
   ],
   "source": [
    "x @ np.array([[169/66800, -33/1336], [-33/1336, 169/668]])"
   ]
  },
  {
   "cell_type": "code",
   "execution_count": null,
   "id": "83b44a42",
   "metadata": {},
   "outputs": [],
   "source": []
  },
  {
   "cell_type": "code",
   "execution_count": 176,
   "id": "52ae5099",
   "metadata": {},
   "outputs": [
    {
     "data": {
      "text/plain": [
       "array([  4.29004491, -32.8495509 ])"
      ]
     },
     "execution_count": 176,
     "metadata": {},
     "output_type": "execute_result"
    }
   ],
   "source": [
    "np.linalg.inv(x) @ np.array([x1, x2]) @ y"
   ]
  },
  {
   "cell_type": "code",
   "execution_count": 184,
   "id": "c7361b50",
   "metadata": {},
   "outputs": [],
   "source": [
    "beta = np.array([[169/66800, -33/1336], [-33/1336, 169/668]]) @ np.array([x1, x2]) @ y"
   ]
  },
  {
   "cell_type": "code",
   "execution_count": 185,
   "id": "fa7bdc6d",
   "metadata": {},
   "outputs": [
    {
     "data": {
      "text/plain": [
       "array([  4.29004491, -32.8495509 ])"
      ]
     },
     "execution_count": 185,
     "metadata": {},
     "output_type": "execute_result"
    }
   ],
   "source": [
    "beta"
   ]
  },
  {
   "cell_type": "code",
   "execution_count": 188,
   "id": "6964a5fe",
   "metadata": {},
   "outputs": [
    {
     "data": {
      "text/plain": [
       "np.float64(10.70391178704824)"
      ]
     },
     "execution_count": 188,
     "metadata": {},
     "output_type": "execute_result"
    }
   ],
   "source": [
    "np.sqrt(sum(num**2 for num in y - np.array([x1, x2]).T @ beta)/(len(y)-2))\n"
   ]
  },
  {
   "cell_type": "code",
   "execution_count": 159,
   "id": "b9a48537",
   "metadata": {},
   "outputs": [
    {
     "data": {
      "text/html": [
       "<div>\n",
       "<style scoped>\n",
       "    .dataframe tbody tr th:only-of-type {\n",
       "        vertical-align: middle;\n",
       "    }\n",
       "\n",
       "    .dataframe tbody tr th {\n",
       "        vertical-align: top;\n",
       "    }\n",
       "\n",
       "    .dataframe thead th {\n",
       "        text-align: right;\n",
       "    }\n",
       "</style>\n",
       "<table border=\"1\" class=\"dataframe\">\n",
       "  <thead>\n",
       "    <tr style=\"text-align: right;\">\n",
       "      <th></th>\n",
       "      <th>x1</th>\n",
       "      <th>x2</th>\n",
       "      <th>y</th>\n",
       "    </tr>\n",
       "  </thead>\n",
       "  <tbody>\n",
       "    <tr>\n",
       "      <th>0</th>\n",
       "      <td>40.0</td>\n",
       "      <td>3.0</td>\n",
       "      <td>60</td>\n",
       "    </tr>\n",
       "    <tr>\n",
       "      <th>1</th>\n",
       "      <td>55.0</td>\n",
       "      <td>6.0</td>\n",
       "      <td>36</td>\n",
       "    </tr>\n",
       "    <tr>\n",
       "      <th>2</th>\n",
       "      <td>45.0</td>\n",
       "      <td>5.0</td>\n",
       "      <td>36</td>\n",
       "    </tr>\n",
       "    <tr>\n",
       "      <th>3</th>\n",
       "      <td>30.0</td>\n",
       "      <td>3.5</td>\n",
       "      <td>15</td>\n",
       "    </tr>\n",
       "    <tr>\n",
       "      <th>4</th>\n",
       "      <td>30.0</td>\n",
       "      <td>1.5</td>\n",
       "      <td>90</td>\n",
       "    </tr>\n",
       "  </tbody>\n",
       "</table>\n",
       "</div>"
      ],
      "text/plain": [
       "     x1   x2   y\n",
       "0  40.0  3.0  60\n",
       "1  55.0  6.0  36\n",
       "2  45.0  5.0  36\n",
       "3  30.0  3.5  15\n",
       "4  30.0  1.5  90"
      ]
     },
     "execution_count": 159,
     "metadata": {},
     "output_type": "execute_result"
    }
   ],
   "source": [
    "df"
   ]
  },
  {
   "cell_type": "code",
   "execution_count": 170,
   "id": "0a37e54a",
   "metadata": {},
   "outputs": [],
   "source": [
    "# 2. Add a constant to the independent variables for the intercept term\n",
    "# This is necessary when using the non-formula API (sm.OLS)\n",
    "X_with_constant = sm.add_constant(df[['x1', 'x2']])"
   ]
  },
  {
   "cell_type": "code",
   "execution_count": 177,
   "id": "b5becd4b",
   "metadata": {},
   "outputs": [],
   "source": [
    "# 3. Fit the OLS model\n",
    "# Method 1: Using the direct OLS class\n",
    "model_direct = sm.OLS(df['y'], df[['x1', 'x2']])\n",
    "results_direct = model_direct.fit()"
   ]
  },
  {
   "cell_type": "code",
   "execution_count": 178,
   "id": "d76c84bf",
   "metadata": {},
   "outputs": [
    {
     "name": "stdout",
     "output_type": "stream",
     "text": [
      "Results from direct OLS:\n",
      "                                 OLS Regression Results                                \n",
      "=======================================================================================\n",
      "Dep. Variable:                      y   R-squared (uncentered):                   0.976\n",
      "Model:                            OLS   Adj. R-squared (uncentered):              0.961\n",
      "Method:                 Least Squares   F-statistic:                              61.85\n",
      "Date:                Sat, 04 Oct 2025   Prob (F-statistic):                     0.00364\n",
      "Time:                        14:27:05   Log-Likelihood:                         -17.671\n",
      "No. Observations:                   5   AIC:                                      39.34\n",
      "Df Residuals:                       3   BIC:                                      38.56\n",
      "Df Model:                           2                                                  \n",
      "Covariance Type:            nonrobust                                                  \n",
      "==============================================================================\n",
      "                 coef    std err          t      P>|t|      [0.025      0.975]\n",
      "------------------------------------------------------------------------------\n",
      "x1             4.2900      0.538      7.968      0.004       2.577       6.003\n",
      "x2           -32.8496      5.384     -6.101      0.009     -49.984     -15.716\n",
      "==============================================================================\n",
      "Omnibus:                          nan   Durbin-Watson:                   0.950\n",
      "Prob(Omnibus):                    nan   Jarque-Bera (JB):                0.392\n",
      "Skew:                          -0.472   Prob(JB):                        0.822\n",
      "Kurtosis:                       2.004   Cond. No.                         46.7\n",
      "==============================================================================\n",
      "\n",
      "Notes:\n",
      "[1] R² is computed without centering (uncentered) since the model does not contain a constant.\n",
      "[2] Standard Errors assume that the covariance matrix of the errors is correctly specified.\n"
     ]
    },
    {
     "name": "stderr",
     "output_type": "stream",
     "text": [
      "/Users/bayan/workspace/github.com/Bayan2019/kaz-gu/.venv/lib/python3.13/site-packages/statsmodels/stats/stattools.py:74: ValueWarning: omni_normtest is not valid with less than 8 observations; 5 samples were given.\n",
      "  warn(\"omni_normtest is not valid with less than 8 observations; %i \"\n"
     ]
    }
   ],
   "source": [
    "# 4. Print the summary of the regression results\n",
    "print(\"Results from direct OLS:\")\n",
    "print(results_direct.summary())"
   ]
  },
  {
   "cell_type": "code",
   "execution_count": 172,
   "id": "245156b6",
   "metadata": {},
   "outputs": [],
   "source": [
    "# Method 2: Using the formula API (often more convenient)\n",
    "# Requires 'statsmodels.formula.api'\n",
    "import statsmodels.formula.api as smf\n",
    "model_formula = smf.ols(\"y ~ x1 + x2\", data=df)\n",
    "results_formula = model_formula.fit()"
   ]
  },
  {
   "cell_type": "code",
   "execution_count": 175,
   "id": "3ff8100f",
   "metadata": {},
   "outputs": [
    {
     "name": "stdout",
     "output_type": "stream",
     "text": [
      "Results from formula OLS:\n",
      "                            OLS Regression Results                            \n",
      "==============================================================================\n",
      "Dep. Variable:                      y   R-squared:                       0.911\n",
      "Model:                            OLS   Adj. R-squared:                  0.821\n",
      "Method:                 Least Squares   F-statistic:                     10.18\n",
      "Date:                Sat, 04 Oct 2025   Prob (F-statistic):             0.0895\n",
      "Time:                        14:25:52   Log-Likelihood:                -17.277\n",
      "No. Observations:                   5   AIC:                             40.55\n",
      "Df Residuals:                       2   BIC:                             39.38\n",
      "Df Model:                           2                                         \n",
      "Covariance Type:            nonrobust                                         \n",
      "==============================================================================\n",
      "                 coef    std err          t      P>|t|      [0.025      0.975]\n",
      "------------------------------------------------------------------------------\n",
      "Intercept     15.9733     27.364      0.584      0.618    -101.764     133.711\n",
      "x1             3.7042      1.174      3.155      0.087      -1.348       8.756\n",
      "x2           -30.7214      7.102     -4.326      0.050     -61.280      -0.163\n",
      "==============================================================================\n",
      "Omnibus:                          nan   Durbin-Watson:                   1.754\n",
      "Prob(Omnibus):                    nan   Jarque-Bera (JB):                0.429\n",
      "Skew:                          -0.335   Prob(JB):                        0.807\n",
      "Kurtosis:                       1.731   Cond. No.                         211.\n",
      "==============================================================================\n",
      "\n",
      "Notes:\n",
      "[1] Standard Errors assume that the covariance matrix of the errors is correctly specified.\n"
     ]
    },
    {
     "name": "stderr",
     "output_type": "stream",
     "text": [
      "/Users/bayan/workspace/github.com/Bayan2019/kaz-gu/.venv/lib/python3.13/site-packages/statsmodels/stats/stattools.py:74: ValueWarning: omni_normtest is not valid with less than 8 observations; 5 samples were given.\n",
      "  warn(\"omni_normtest is not valid with less than 8 observations; %i \"\n"
     ]
    }
   ],
   "source": [
    "# 4. Print the summary of the regression results\n",
    "print(\"Results from formula OLS:\")\n",
    "print(results_formula.summary())"
   ]
  },
  {
   "cell_type": "markdown",
   "id": "2c952fbd",
   "metadata": {},
   "source": []
  },
  {
   "cell_type": "markdown",
   "id": "06723088",
   "metadata": {},
   "source": [
    "## References"
   ]
  },
  {
   "cell_type": "markdown",
   "id": "ba3616e8",
   "metadata": {},
   "source": [
    "- [F-statistic: Understanding model significance using python](https://medium.com/analytics-vidhya/f-statistic-understanding-model-significance-using-python-c1371980b796)\n",
    "- [F-test & F-statistics in Linear Regression: Formula, Examples](https://vitalflux.com/interpreting-f-statistics-in-linear-regression-formula-examples/)\n",
    "- [Understand the F-statistic in Linear Regression](https://quantifyinghealth.com/f-statistic-in-linear-regression/)\n",
    "- [P Value Calculator](https://www.graphpad.com/quickcalcs/pvalue1/)\n",
    "- [F-distribution table](https://numiqo.com/tutorial/f-distribution)"
   ]
  },
  {
   "cell_type": "markdown",
   "id": "42597fd0",
   "metadata": {},
   "source": []
  }
 ],
 "metadata": {
  "kernelspec": {
   "display_name": "kaz-gu",
   "language": "python",
   "name": "python3"
  },
  "language_info": {
   "codemirror_mode": {
    "name": "ipython",
    "version": 3
   },
   "file_extension": ".py",
   "mimetype": "text/x-python",
   "name": "python",
   "nbconvert_exporter": "python",
   "pygments_lexer": "ipython3",
   "version": "3.13.7"
  }
 },
 "nbformat": 4,
 "nbformat_minor": 5
}
