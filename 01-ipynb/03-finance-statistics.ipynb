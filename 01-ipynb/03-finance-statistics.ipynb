{
 "cells": [
  {
   "cell_type": "markdown",
   "id": "6e272847",
   "metadata": {},
   "source": [
    "## Collecting Data"
   ]
  },
  {
   "cell_type": "code",
   "execution_count": 6,
   "id": "f69167ee",
   "metadata": {},
   "outputs": [],
   "source": [
    "import yfinance as yf\n",
    "import pandas as pd"
   ]
  },
  {
   "cell_type": "code",
   "execution_count": 4,
   "id": "ee495033",
   "metadata": {},
   "outputs": [],
   "source": [
    "monster = yf.Ticker(\"MNST\").history(start=\"2025-09-01\", end=\"2025-09-10\", interval=\"1d\")\n",
    "pepper = yf.Ticker(\"KDP\").history(start=\"2025-09-01\", end=\"2025-09-10\", interval=\"1d\")\n",
    "pepsi = yf.Ticker(\"PEP\").history(start=\"2025-09-01\", end=\"2025-09-10\", interval=\"1d\")\n",
    "coke = yf.Ticker(\"COKE\").history(start=\"2025-09-01\", end=\"2025-09-10\", interval=\"1d\")"
   ]
  },
  {
   "cell_type": "code",
   "execution_count": 5,
   "id": "c57704ce",
   "metadata": {},
   "outputs": [
    {
     "data": {
      "text/html": [
       "<div>\n",
       "<style scoped>\n",
       "    .dataframe tbody tr th:only-of-type {\n",
       "        vertical-align: middle;\n",
       "    }\n",
       "\n",
       "    .dataframe tbody tr th {\n",
       "        vertical-align: top;\n",
       "    }\n",
       "\n",
       "    .dataframe thead th {\n",
       "        text-align: right;\n",
       "    }\n",
       "</style>\n",
       "<table border=\"1\" class=\"dataframe\">\n",
       "  <thead>\n",
       "    <tr style=\"text-align: right;\">\n",
       "      <th></th>\n",
       "      <th>Open</th>\n",
       "      <th>High</th>\n",
       "      <th>Low</th>\n",
       "      <th>Close</th>\n",
       "      <th>Volume</th>\n",
       "      <th>Dividends</th>\n",
       "      <th>Stock Splits</th>\n",
       "    </tr>\n",
       "    <tr>\n",
       "      <th>Date</th>\n",
       "      <th></th>\n",
       "      <th></th>\n",
       "      <th></th>\n",
       "      <th></th>\n",
       "      <th></th>\n",
       "      <th></th>\n",
       "      <th></th>\n",
       "    </tr>\n",
       "  </thead>\n",
       "  <tbody>\n",
       "    <tr>\n",
       "      <th>2025-09-02 00:00:00-04:00</th>\n",
       "      <td>116.750000</td>\n",
       "      <td>117.800003</td>\n",
       "      <td>115.870003</td>\n",
       "      <td>116.940002</td>\n",
       "      <td>453300</td>\n",
       "      <td>0.0</td>\n",
       "      <td>0.0</td>\n",
       "    </tr>\n",
       "    <tr>\n",
       "      <th>2025-09-03 00:00:00-04:00</th>\n",
       "      <td>116.519997</td>\n",
       "      <td>117.279999</td>\n",
       "      <td>115.410004</td>\n",
       "      <td>117.190002</td>\n",
       "      <td>336200</td>\n",
       "      <td>0.0</td>\n",
       "      <td>0.0</td>\n",
       "    </tr>\n",
       "  </tbody>\n",
       "</table>\n",
       "</div>"
      ],
      "text/plain": [
       "                                 Open        High         Low       Close  \\\n",
       "Date                                                                        \n",
       "2025-09-02 00:00:00-04:00  116.750000  117.800003  115.870003  116.940002   \n",
       "2025-09-03 00:00:00-04:00  116.519997  117.279999  115.410004  117.190002   \n",
       "\n",
       "                           Volume  Dividends  Stock Splits  \n",
       "Date                                                        \n",
       "2025-09-02 00:00:00-04:00  453300        0.0           0.0  \n",
       "2025-09-03 00:00:00-04:00  336200        0.0           0.0  "
      ]
     },
     "execution_count": 5,
     "metadata": {},
     "output_type": "execute_result"
    }
   ],
   "source": [
    "coke.head(2)"
   ]
  },
  {
   "cell_type": "markdown",
   "id": "ca0ec247",
   "metadata": {},
   "source": [
    "## 0. Bernoulli, Binomial, and Poisson Distributions"
   ]
  },
  {
   "cell_type": "code",
   "execution_count": 12,
   "id": "62aa378d",
   "metadata": {},
   "outputs": [],
   "source": [
    "import matplotlib.pyplot as plt\n",
    "import seaborn as sns\n",
    "from scipy.stats import bernoulli, binom, poisson\n",
    "import numpy as np"
   ]
  },
  {
   "cell_type": "markdown",
   "id": "08fa7533",
   "metadata": {},
   "source": [
    "### Bernoulli"
   ]
  },
  {
   "cell_type": "markdown",
   "id": "b1fd2075",
   "metadata": {},
   "source": [
    "#### Generating Bernoulli Random Variables"
   ]
  },
  {
   "cell_type": "code",
   "execution_count": 13,
   "id": "3bbe1eb0",
   "metadata": {},
   "outputs": [
    {
     "name": "stdout",
     "output_type": "stream",
     "text": [
      "Single Bernoulli outcome: 1\n"
     ]
    }
   ],
   "source": [
    "# Define the probability of success (p)\n",
    "p = 0.7\n",
    "\n",
    "# Generate a single Bernoulli trial outcome\n",
    "single_outcome = bernoulli.rvs(p)\n",
    "print(f\"Single Bernoulli outcome: {single_outcome}\")"
   ]
  },
  {
   "cell_type": "code",
   "execution_count": 14,
   "id": "3119cf3c",
   "metadata": {},
   "outputs": [
    {
     "name": "stdout",
     "output_type": "stream",
     "text": [
      "Multiple Bernoulli samples: [0 1 1 1 1 1 0 1 1 0 0 1 0 0 1 0 0 0 1 1]\n"
     ]
    }
   ],
   "source": [
    "# Generate multiple Bernoulli trial outcomes\n",
    "num_samples = 20\n",
    "samples = bernoulli.rvs(p, size=num_samples)\n",
    "print(f\"Multiple Bernoulli samples: {samples}\")"
   ]
  },
  {
   "cell_type": "markdown",
   "id": "bd0d0a32",
   "metadata": {},
   "source": [
    "#### Calculating Probability Mass Function (PMF)"
   ]
  },
  {
   "cell_type": "code",
   "execution_count": 15,
   "id": "e42bdf8b",
   "metadata": {},
   "outputs": [
    {
     "name": "stdout",
     "output_type": "stream",
     "text": [
      "Probability of failure (0): 0.30000000000000004\n"
     ]
    }
   ],
   "source": [
    "# Probability of failure (x=0)\n",
    "prob_failure = bernoulli.pmf(0, p)\n",
    "print(f\"Probability of failure (0): {prob_failure}\")"
   ]
  },
  {
   "cell_type": "code",
   "execution_count": 16,
   "id": "7e0ca39f",
   "metadata": {},
   "outputs": [
    {
     "name": "stdout",
     "output_type": "stream",
     "text": [
      "Probability of success (1): 0.7\n"
     ]
    }
   ],
   "source": [
    "# Probability of success (x=1)\n",
    "prob_success = bernoulli.pmf(1, p)\n",
    "print(f\"Probability of success (1): {prob_success}\")"
   ]
  },
  {
   "cell_type": "markdown",
   "id": "cb7310ef",
   "metadata": {},
   "source": [
    "#### Calculating Cumulative Distribution Function (CDF)"
   ]
  },
  {
   "cell_type": "code",
   "execution_count": 17,
   "id": "4422ca90",
   "metadata": {},
   "outputs": [
    {
     "name": "stdout",
     "output_type": "stream",
     "text": [
      "CDF at 0: 0.30000000000000004\n"
     ]
    }
   ],
   "source": [
    "# CDF at 0 (probability of failure or less)\n",
    "cdf_at_0 = bernoulli.cdf(0, p)\n",
    "print(f\"CDF at 0: {cdf_at_0}\")"
   ]
  },
  {
   "cell_type": "code",
   "execution_count": 8,
   "id": "35629f50",
   "metadata": {},
   "outputs": [
    {
     "name": "stdout",
     "output_type": "stream",
     "text": [
      "CDF at 1: 1.0\n"
     ]
    }
   ],
   "source": [
    "# CDF at 1 (probability of success or less)\n",
    "cdf_at_1 = bernoulli.cdf(1, p)\n",
    "print(f\"CDF at 1: {cdf_at_1}\")"
   ]
  },
  {
   "cell_type": "markdown",
   "id": "d6fcee83",
   "metadata": {},
   "source": [
    "#### Visualizing Bernoulli Distribution"
   ]
  },
  {
   "cell_type": "code",
   "execution_count": 9,
   "id": "da0496d0",
   "metadata": {},
   "outputs": [],
   "source": [
    "p = 0.7\n",
    "num_samples = 1000\n",
    "samples = bernoulli.rvs(p, size=num_samples)"
   ]
  },
  {
   "cell_type": "code",
   "execution_count": 10,
   "id": "4311b3d3",
   "metadata": {},
   "outputs": [
    {
     "data": {
      "image/png": "[encoded data removed]",
      "text/plain": [
       "<Figure size 640x480 with 1 Axes>"
      ]
     },
     "metadata": {},
     "output_type": "display_data"
    }
   ],
   "source": [
    "# Plotting the histogram of generated samples\n",
    "plt.hist(samples, bins=[-0.5, 0.5, 1.5], align='mid', rwidth=0.8, density=True)\n",
    "plt.xticks([0, 1])\n",
    "plt.title('Bernoulli Distribution Sample Histogram')\n",
    "plt.xlabel('Outcome')\n",
    "plt.ylabel('Probability')\n",
    "plt.grid(True)\n",
    "plt.show()"
   ]
  },
  {
   "cell_type": "code",
   "execution_count": 11,
   "id": "9250682c",
   "metadata": {},
   "outputs": [
    {
     "data": {
      "image/png": "[encoded data removed]",
      "text/plain": [
       "<Figure size 640x480 with 1 Axes>"
      ]
     },
     "metadata": {},
     "output_type": "display_data"
    }
   ],
   "source": [
    "# Plotting the PMF\n",
    "outcomes = [0, 1]\n",
    "pmf_values = [bernoulli.pmf(0, p), bernoulli.pmf(1, p)]\n",
    "plt.bar(outcomes, pmf_values, width=0.4)\n",
    "plt.xticks([0, 1])\n",
    "plt.title('Bernoulli Distribution PMF')\n",
    "plt.xlabel('Outcome')\n",
    "plt.ylabel('Probability')\n",
    "plt.grid(True)\n",
    "plt.show()"
   ]
  },
  {
   "cell_type": "markdown",
   "id": "bd0e971a",
   "metadata": {},
   "source": [
    "### Binomial"
   ]
  },
  {
   "cell_type": "markdown",
   "id": "6f5d4328",
   "metadata": {},
   "source": [
    "he probability of getting exactly $k$ successes in $n$ independent Bernoulli trials (with the same rate $p$) is given by the probability mass function:\n",
    "$$\\binom{n}{k}p^k(1-p)^{n-k}$$\n",
    "where $\\binom{n}{k} = \\frac{n!}{k!(n-k)!}$"
   ]
  },
  {
   "cell_type": "markdown",
   "id": "de9b29d7",
   "metadata": {},
   "source": [
    "#### Generating Random Samples"
   ]
  },
  {
   "cell_type": "code",
   "execution_count": 23,
   "id": "93f7d967",
   "metadata": {},
   "outputs": [
    {
     "name": "stdout",
     "output_type": "stream",
     "text": [
      "[7 6 4 8 5 7 8 7 4 6]\n"
     ]
    }
   ],
   "source": [
    "# Generate 10 random samples from a binomial distribution\n",
    "# with 10 trials and a 0.5 probability of success\n",
    "samples = np.random.binomial(n=10, p=0.6, size=10)\n",
    "print(samples)"
   ]
  },
  {
   "cell_type": "markdown",
   "id": "f29cab7b",
   "metadata": {},
   "source": [
    "#### Calculating Probabilities (PMF and CDF)"
   ]
  },
  {
   "cell_type": "code",
   "execution_count": 8,
   "id": "e8194b2b",
   "metadata": {},
   "outputs": [
    {
     "name": "stdout",
     "output_type": "stream",
     "text": [
      "Probability of exactly 3 heads: 0.31249999999999983\n"
     ]
    }
   ],
   "source": [
    "# Probability of getting exactly 3 heads in 5 coin flips\n",
    "pmf_value = binom.pmf(k=3, n=5, p=0.5)\n",
    "print(f\"Probability of exactly 3 heads: {pmf_value}\")"
   ]
  },
  {
   "cell_type": "code",
   "execution_count": 9,
   "id": "5cd2387f",
   "metadata": {},
   "outputs": [
    {
     "name": "stdout",
     "output_type": "stream",
     "text": [
      "Probability of 2 or fewer heads: 0.5\n"
     ]
    }
   ],
   "source": [
    "# Probability of getting 2 or fewer heads in 5 coin flips\n",
    "cdf_value = binom.cdf(k=2, n=5, p=0.5)\n",
    "print(f\"Probability of 2 or fewer heads: {cdf_value}\")"
   ]
  },
  {
   "cell_type": "markdown",
   "id": "53042378",
   "metadata": {},
   "source": [
    "#### Visualizing the Distribution"
   ]
  },
  {
   "cell_type": "code",
   "execution_count": 20,
   "id": "4856ddf4",
   "metadata": {},
   "outputs": [],
   "source": [
    "n = 10  # Number of trials\n",
    "p = 0.6 # Probability of success\n",
    "\n",
    "# Create an array of possible number of successes\n",
    "k_values = np.arange(0, n + 1)\n",
    "\n",
    "# Calculate the PMF for each k_value\n",
    "pmf_values = binom.pmf(k_values, n, p)"
   ]
  },
  {
   "cell_type": "code",
   "execution_count": 21,
   "id": "a717559b",
   "metadata": {},
   "outputs": [
    {
     "data": {
      "image/png": "[encoded data removed]",
      "text/plain": [
       "<Figure size 800x500 with 1 Axes>"
      ]
     },
     "metadata": {},
     "output_type": "display_data"
    }
   ],
   "source": [
    "# Plot the PMF\n",
    "plt.figure(figsize=(8, 5))\n",
    "sns.barplot(x=k_values, y=pmf_values, color='skyblue')\n",
    "plt.title('Binomial Distribution PMF (n=10, p=0.5)')\n",
    "plt.xlabel('Number of Successes (k)')\n",
    "plt.ylabel('Probability')\n",
    "plt.grid(axis='y', linestyle='--')\n",
    "plt.show()"
   ]
  },
  {
   "cell_type": "code",
   "execution_count": 28,
   "id": "2ee1b0a9",
   "metadata": {},
   "outputs": [],
   "source": [
    "samples = np.random.binomial(n=10, p=0.6, size=1000)"
   ]
  },
  {
   "cell_type": "code",
   "execution_count": 31,
   "id": "8c329245",
   "metadata": {},
   "outputs": [
    {
     "data": {
      "image/png": "[encoded data removed]",
      "text/plain": [
       "<Figure size 640x480 with 1 Axes>"
      ]
     },
     "metadata": {},
     "output_type": "display_data"
    }
   ],
   "source": [
    "plt.hist(samples, bins=10, edgecolor='black', color='skyblue') # bins=30 creates 30 equal-width bins\n",
    "plt.show()"
   ]
  },
  {
   "cell_type": "markdown",
   "id": "73b6a890",
   "metadata": {},
   "source": [
    "### Financial excercises"
   ]
  },
  {
   "cell_type": "markdown",
   "id": "d7216532",
   "metadata": {},
   "source": [
    "#### Cash Flow Forecasting"
   ]
  },
  {
   "cell_type": "markdown",
   "id": "5c6734b2",
   "metadata": {},
   "source": [
    "**Scenario**: A company has 50 clients, and each client has a 90% chance of making their payment on time. \n",
    "\n",
    "**Question**: What is the probability of receiving payments from exactly 48 clients?\n",
    "\n",
    "**Application**: Use the binomial formula with n=50, r=48, and p=0.90 to find the probability, helping with liquidity management. \n"
   ]
  },
  {
   "cell_type": "code",
   "execution_count": 39,
   "id": "51288550",
   "metadata": {},
   "outputs": [
    {
     "name": "stdout",
     "output_type": "stream",
     "text": [
      "The probability of receiving payments from exactly 48 clients: 0.07794289665391535\n"
     ]
    }
   ],
   "source": [
    "pmf_value = binom.pmf(k=48, n=50, p=0.9)\n",
    "print(f\"The probability of receiving payments from exactly 48 clients: {pmf_value}\")"
   ]
  },
  {
   "cell_type": "code",
   "execution_count": 40,
   "id": "03ef02b0",
   "metadata": {},
   "outputs": [],
   "source": [
    "n = 50  # Number of clients\n",
    "p = 0.9 # Probability of making payment on time\n",
    "\n",
    "# Create an array of possible number of successes\n",
    "k_values = np.arange(0, n + 1)\n",
    "\n",
    "# Calculate the PMF for each k_value\n",
    "pmf_values = binom.pmf(k_values, n, p)"
   ]
  },
  {
   "cell_type": "code",
   "execution_count": 42,
   "id": "6fe9a0f1",
   "metadata": {},
   "outputs": [
    {
     "data": {
      "image/png": "[encoded data removed]",
      "text/plain": [
       "<Figure size 800x500 with 1 Axes>"
      ]
     },
     "metadata": {},
     "output_type": "display_data"
    }
   ],
   "source": [
    "# Plot the PMF\n",
    "plt.figure(figsize=(8, 5))\n",
    "sns.barplot(x=k_values, y=pmf_values, color='skyblue')\n",
    "plt.xticks(rotation=90)\n",
    "plt.title('Binomial Distribution PMF (n=10, p=0.5)')\n",
    "plt.xlabel('Number of Successes (k)')\n",
    "plt.ylabel('Probability')\n",
    "plt.grid(axis='y', linestyle='--')\n",
    "plt.show()"
   ]
  },
  {
   "cell_type": "markdown",
   "id": "a4246311",
   "metadata": {},
   "source": [
    "#### Credit Risk Assessment"
   ]
  },
  {
   "cell_type": "markdown",
   "id": "deeae224",
   "metadata": {},
   "source": [
    "**Scenario**: A bank holds 100 loans, and each loan has a 5% chance of defaulting. \n",
    "\n",
    "**Question**: What is the probability that exactly 3 of these loans will default?\n",
    "\n",
    "**Application**: Apply the binomial distribution with n=100, r=3, and p=0.05 to estimate the number of defaults and assess overall risk."
   ]
  },
  {
   "cell_type": "code",
   "execution_count": 44,
   "id": "bddab2e2",
   "metadata": {},
   "outputs": [
    {
     "name": "stdout",
     "output_type": "stream",
     "text": [
      "The probability that exactly 3 of these loans will default: 0.13957567793089534\n"
     ]
    }
   ],
   "source": [
    "pmf_value = binom.pmf(k=3, n=100, p=0.05)\n",
    "print(f\"The probability that exactly 3 of these loans will default: {pmf_value}\")"
   ]
  },
  {
   "cell_type": "code",
   "execution_count": 33,
   "id": "b1ee48ee",
   "metadata": {},
   "outputs": [
    {
     "data": {
      "text/plain": [
       "np.float64(0.005920529220334024)"
      ]
     },
     "execution_count": 33,
     "metadata": {},
     "output_type": "execute_result"
    }
   ],
   "source": [
    "p0 = binom.pmf(k=0, n=100, p=0.05)\n",
    "p0"
   ]
  },
  {
   "cell_type": "code",
   "execution_count": 34,
   "id": "510b4330",
   "metadata": {},
   "outputs": [
    {
     "data": {
      "text/plain": [
       "np.float64(0.031160680107021173)"
      ]
     },
     "execution_count": 34,
     "metadata": {},
     "output_type": "execute_result"
    }
   ],
   "source": [
    "p1 = binom.pmf(k=1, n=100, p=0.05)\n",
    "p1"
   ]
  },
  {
   "cell_type": "code",
   "execution_count": 35,
   "id": "a692d58c",
   "metadata": {},
   "outputs": [
    {
     "data": {
      "text/plain": [
       "np.float64(0.08118177185776576)"
      ]
     },
     "execution_count": 35,
     "metadata": {},
     "output_type": "execute_result"
    }
   ],
   "source": [
    "p2 = binom.pmf(k=2, n=100, p=0.05)\n",
    "p2"
   ]
  },
  {
   "cell_type": "code",
   "execution_count": 36,
   "id": "fd745034",
   "metadata": {},
   "outputs": [
    {
     "data": {
      "text/plain": [
       "np.float64(0.13957567793089534)"
      ]
     },
     "execution_count": 36,
     "metadata": {},
     "output_type": "execute_result"
    }
   ],
   "source": [
    "p3 = binom.pmf(k=3, n=100, p=0.05)\n",
    "p3"
   ]
  },
  {
   "cell_type": "code",
   "execution_count": 37,
   "id": "71c90e54",
   "metadata": {},
   "outputs": [
    {
     "data": {
      "text/plain": [
       "np.float64(0.25783865911601633)"
      ]
     },
     "execution_count": 37,
     "metadata": {},
     "output_type": "execute_result"
    }
   ],
   "source": [
    "p0+p1+p2+p3"
   ]
  },
  {
   "cell_type": "code",
   "execution_count": 38,
   "id": "f8691cca",
   "metadata": {},
   "outputs": [
    {
     "data": {
      "text/plain": [
       "np.float64(0.2578386591160152)"
      ]
     },
     "execution_count": 38,
     "metadata": {},
     "output_type": "execute_result"
    }
   ],
   "source": [
    "cdf_value = binom.cdf(k=3, n=100, p=0.05)\n",
    "cdf_value"
   ]
  },
  {
   "cell_type": "code",
   "execution_count": 45,
   "id": "b6e1b1e1",
   "metadata": {},
   "outputs": [],
   "source": [
    "n = 100  # Number of clients\n",
    "p = 0.05 # Probability of making payment on time\n",
    "\n",
    "# Create an array of possible number of successes\n",
    "k_values = np.arange(0, n + 1)\n",
    "\n",
    "# Calculate the PMF for each k_value\n",
    "pmf_values = binom.pmf(k_values, n, p)"
   ]
  },
  {
   "cell_type": "code",
   "execution_count": 48,
   "id": "37e1dfc2",
   "metadata": {},
   "outputs": [
    {
     "data": {
      "image/png": "[encoded data removed]",
      "text/plain": [
       "<Figure size 800x500 with 1 Axes>"
      ]
     },
     "metadata": {},
     "output_type": "display_data"
    }
   ],
   "source": [
    "# Plot the PMF\n",
    "plt.figure(figsize=(8, 5))\n",
    "sns.barplot(x=k_values, y=pmf_values, color='skyblue')\n",
    "plt.xticks(np.arange(0, 101, step=5))  # Set label locations.\n",
    "# plt.xticks(rotation=90)\n",
    "plt.title('Binomial Distribution PMF (n=10, p=0.5)')\n",
    "plt.xlabel('Number of Successes (k)')\n",
    "plt.ylabel('Probability')\n",
    "plt.grid(axis='y', linestyle='--')\n",
    "plt.show()"
   ]
  },
  {
   "cell_type": "markdown",
   "id": "a130c0e8",
   "metadata": {},
   "source": [
    "#### Credit risk: Loan portfolio default probability"
   ]
  },
  {
   "cell_type": "markdown",
   "id": "7cb063ad",
   "metadata": {},
   "source": [
    "A bank has a portfolio of 20 independent personal loans. The historical probability of any single customer defaulting on a loan is 10%."
   ]
  },
  {
   "cell_type": "code",
   "execution_count": 18,
   "id": "80f2472a",
   "metadata": {},
   "outputs": [],
   "source": [
    "# Determine the number of trials (\\(n\\)) and the probability of success (\\(p\\)). A \"success\" in this case is a loan default.\n",
    "n=20\n",
    "p=0.1\n",
    "q=1-p"
   ]
  },
  {
   "cell_type": "code",
   "execution_count": 19,
   "id": "6eedb9a5",
   "metadata": {},
   "outputs": [
    {
     "name": "stdout",
     "output_type": "stream",
     "text": [
      "chance of exactly 3 customers defaulting: 0.19011987137619904\n"
     ]
    }
   ],
   "source": [
    "# Calculate the probability of a specific outcome: \n",
    "# Find the probability that exactly 3 customers in the portfolio will default.\n",
    "pmf_value = binom.pmf(k=3, n=n, p=p)\n",
    "print(f\"chance of exactly 3 customers defaulting: {pmf_value}\")"
   ]
  },
  {
   "cell_type": "code",
   "execution_count": 21,
   "id": "93b7d037",
   "metadata": {},
   "outputs": [
    {
     "name": "stdout",
     "output_type": "stream",
     "text": [
      "chance of 2 or fewer customers defaulting: 0.6769268051894659\n"
     ]
    }
   ],
   "source": [
    "# Calculate the cumulative probability: \n",
    "# Find the probability that no more than 2 customers will default.\n",
    "cdf_value = binom.cdf(k=2, n=n, p=p)\n",
    "print(f\"chance of 2 or fewer customers defaulting: {cdf_value}\")"
   ]
  },
  {
   "cell_type": "code",
   "execution_count": 26,
   "id": "83cf77df",
   "metadata": {},
   "outputs": [
    {
     "name": "stdout",
     "output_type": "stream",
     "text": [
      "mean: 2.0\n",
      " standard deviation: 1.3416407864998738\n"
     ]
    }
   ],
   "source": [
    "# Calculate the mean and standard deviation: \n",
    "# Determine the expected number of defaults and the spread of possible outcomes.\n",
    "mean, variance = binom.stats(n, p)\n",
    "print(f\"mean: {mean}\\n standard deviation: {binom.std(n, p)}\")"
   ]
  },
  {
   "cell_type": "code",
   "execution_count": null,
   "id": "2e80388c",
   "metadata": {},
   "outputs": [],
   "source": [
    "binom.me"
   ]
  },
  {
   "cell_type": "code",
   "execution_count": 39,
   "id": "4ffc6600",
   "metadata": {},
   "outputs": [
    {
     "data": {
      "text/plain": [
       "np.float64(0.12559897272303744)"
      ]
     },
     "execution_count": 39,
     "metadata": {},
     "output_type": "execute_result"
    }
   ],
   "source": [
    "1-binom.cdf(k=14, n=20, p=0.6)"
   ]
  },
  {
   "cell_type": "markdown",
   "id": "2d5ed580",
   "metadata": {},
   "source": [
    "#### Option pricing: The single-period binomial model"
   ]
  },
  {
   "cell_type": "markdown",
   "id": "44c31fa2",
   "metadata": {},
   "source": [
    "A stock is currently trading at $50. \n",
    "In one year, its price is expected to either increase by 20% or decrease by 10%. \n",
    "A European call option on this stock has a strike price of $52 and an expiration date of one year. \n",
    "The annual risk-free interest rate is 5%."
   ]
  },
  {
   "cell_type": "code",
   "execution_count": null,
   "id": "84c57215",
   "metadata": {},
   "outputs": [
    {
     "data": {
      "text/plain": [
       "45.0"
      ]
     },
     "execution_count": 14,
     "metadata": {},
     "output_type": "execute_result"
    }
   ],
   "source": [
    "# Construct the binomial tree\n",
    "u = 50 * (1+0.2)\n",
    "d = 50 * (1-0.1)\n"
   ]
  },
  {
   "cell_type": "code",
   "execution_count": 29,
   "id": "e9dc93cb",
   "metadata": {},
   "outputs": [
    {
     "name": "stdout",
     "output_type": "stream",
     "text": [
      "Up-state payoff (Cu): 8.0\n",
      "Down-state payoff (Cd): 0\n"
     ]
    }
   ],
   "source": [
    "# Calculate the option's payoffs\n",
    "Cu = max(u - 52, 0)\n",
    "Cd = max(d - 52, 0)\n",
    "print(f\"Up-state payoff (Cu): {Cu}\")\n",
    "print(f\"Down-state payoff (Cd): {Cd}\")"
   ]
  },
  {
   "cell_type": "code",
   "execution_count": 28,
   "id": "a43df7f3",
   "metadata": {},
   "outputs": [
    {
     "data": {
      "text/plain": [
       "0.5"
      ]
     },
     "execution_count": 28,
     "metadata": {},
     "output_type": "execute_result"
    }
   ],
   "source": [
    "# Find the risk-neutral probability (\\(p\\))\n",
    "r=0.05\n",
    "p = ((1+r)*50-d)/(u-d)\n",
    "p"
   ]
  },
  {
   "cell_type": "code",
   "execution_count": 30,
   "id": "f8fc257a",
   "metadata": {},
   "outputs": [
    {
     "data": {
      "text/plain": [
       "3.8095238095238093"
      ]
     },
     "execution_count": 30,
     "metadata": {},
     "output_type": "execute_result"
    }
   ],
   "source": [
    "# Value the call option (\\(C_{0}\\))\n",
    "C0 = (p*Cu+(1-p)*Cd)/(1+r)\n",
    "C0"
   ]
  },
  {
   "cell_type": "markdown",
   "id": "c99cd79b",
   "metadata": {},
   "source": [
    "### Poisson"
   ]
  },
  {
   "cell_type": "markdown",
   "id": "dbe5cb4a",
   "metadata": {},
   "source": [
    "The Poisson distribution is a discrete probability distribution that models the number of events occurring within a fixed interval of time or space, given a known constant average rate of occurrence and independence of events."
   ]
  },
  {
   "cell_type": "markdown",
   "id": "a8444ae6",
   "metadata": {},
   "source": [
    "Under a Poisson distribution with the expectation of $\\lambda$ events in a given interval, the probability of $k$ events in the same interval is"
   ]
  },
  {
   "cell_type": "markdown",
   "id": "8dd3c135",
   "metadata": {},
   "source": [
    "$$\\frac{\\lambda^ke^{-\\lambda}}{k!}$$"
   ]
  },
  {
   "cell_type": "markdown",
   "id": "23d87370",
   "metadata": {},
   "source": [
    "#### Generating Random Samples"
   ]
  },
  {
   "cell_type": "markdown",
   "id": "e5aca5e5",
   "metadata": {},
   "source": [
    "**Lambda (λ)**: The average rate at which events occur within the given interval. This is the single parameter that characterizes the Poisson distribution"
   ]
  },
  {
   "cell_type": "code",
   "execution_count": 33,
   "id": "e955eca4",
   "metadata": {},
   "outputs": [
    {
     "name": "stdout",
     "output_type": "stream",
     "text": [
      "First 10 samples: [5 8 2 3 3 9 2 7 5 4]\n"
     ]
    }
   ],
   "source": [
    "# Example: Generate 1000 random samples with lambda = 5\n",
    "lam = 5\n",
    "samples = poisson.rvs(lam, size=1000)\n",
    "print(f\"First 10 samples: {samples[:10]}\")"
   ]
  },
  {
   "cell_type": "markdown",
   "id": "a71802b9",
   "metadata": {},
   "source": [
    "#### Probability Mass Function (PMF)"
   ]
  },
  {
   "cell_type": "code",
   "execution_count": 35,
   "id": "94727285",
   "metadata": {},
   "outputs": [
    {
     "name": "stdout",
     "output_type": "stream",
     "text": [
      "P(X=3 | λ=5) = 0.1403738958142805\n"
     ]
    }
   ],
   "source": [
    "# Example: Probability of 3 events when lambda is 5\n",
    "lam = 5\n",
    "k = 3\n",
    "probability = poisson.pmf(k, lam)\n",
    "print(f\"P(X={k} | λ={lam}) = {probability}\")"
   ]
  },
  {
   "cell_type": "markdown",
   "id": "30286747",
   "metadata": {},
   "source": [
    "#### Cumulative Distribution Function (CDF)"
   ]
  },
  {
   "cell_type": "code",
   "execution_count": 34,
   "id": "f1ba0c07",
   "metadata": {},
   "outputs": [
    {
     "name": "stdout",
     "output_type": "stream",
     "text": [
      "P(X<=3 | λ=5) = 0.2650259152973616\n"
     ]
    }
   ],
   "source": [
    " # Example: Probability of 3 or fewer events when lambda is 5\n",
    "lam = 5\n",
    "k = 3\n",
    "cumulative_probability = poisson.cdf(k, lam)\n",
    "print(f\"P(X<={k} | λ={lam}) = {cumulative_probability}\")"
   ]
  },
  {
   "cell_type": "markdown",
   "id": "709b8b7c",
   "metadata": {},
   "source": [
    "#### Plotting the Distribution"
   ]
  },
  {
   "cell_type": "code",
   "execution_count": 36,
   "id": "07c853a2",
   "metadata": {},
   "outputs": [],
   "source": [
    "lam = 3\n",
    "x = np.arange(0, 10)  # Range of possible events\n",
    "pmf_values = poisson.pmf(x, lam)"
   ]
  },
  {
   "cell_type": "code",
   "execution_count": 37,
   "id": "dcbb1149",
   "metadata": {},
   "outputs": [
    {
     "data": {
      "image/png": "[encoded data removed]",
      "text/plain": [
       "<Figure size 800x500 with 1 Axes>"
      ]
     },
     "metadata": {},
     "output_type": "display_data"
    }
   ],
   "source": [
    "plt.figure(figsize=(8, 5))\n",
    "sns.barplot(x=x, y=pmf_values)\n",
    "plt.title(f'Poisson Distribution (λ = {lam})')\n",
    "plt.xlabel('Number of Events (k)')\n",
    "plt.ylabel('Probability')\n",
    "plt.show()"
   ]
  },
  {
   "cell_type": "code",
   "execution_count": 38,
   "id": "204bbcfc",
   "metadata": {},
   "outputs": [
    {
     "data": {
      "image/png": "[encoded data removed]",
      "text/plain": [
       "<Figure size 640x480 with 1 Axes>"
      ]
     },
     "metadata": {},
     "output_type": "display_data"
    }
   ],
   "source": [
    "plt.hist(samples, bins=10, edgecolor='black', color='skyblue') # bins=30 creates 30 equal-width bins\n",
    "plt.show()"
   ]
  },
  {
   "cell_type": "markdown",
   "id": "3c230c28",
   "metadata": {},
   "source": [
    "#### Financial Excercises"
   ]
  },
  {
   "cell_type": "markdown",
   "id": "daeaf192",
   "metadata": {},
   "source": [
    "##### Credit risk modeling for a loan portfolio"
   ]
  },
  {
   "cell_type": "markdown",
   "id": "fae1d0da",
   "metadata": {},
   "source": [
    "A bank has a large portfolio of consumer loans. Based on historical data, the average number of loan defaults in this portfolio is 3 per quarter. Assuming defaults occur randomly and independently, a Poisson distribution is a suitable model."
   ]
  },
  {
   "cell_type": "code",
   "execution_count": 5,
   "id": "ce5b0dc5",
   "metadata": {},
   "outputs": [
    {
     "name": "stdout",
     "output_type": "stream",
     "text": [
      "P(X=4 | λ=3) = 0.16803135574154085\n"
     ]
    }
   ],
   "source": [
    "# What is the probability of having exactly 2 defaults in the next quarter?\n",
    "lam = 3\n",
    "k = 4\n",
    "probability = poisson.pmf(k, lam)\n",
    "print(f\"P(X={k} | λ={lam}) = {probability}\")"
   ]
  },
  {
   "cell_type": "code",
   "execution_count": 6,
   "id": "29935e88",
   "metadata": {},
   "outputs": [
    {
     "name": "stdout",
     "output_type": "stream",
     "text": [
      "P(X<=4 | λ=3) = 0.8152632445237722\n"
     ]
    }
   ],
   "source": [
    "# What is the probability of having more than 5 defaults in the next quarter?\n",
    "lam = 3\n",
    "k = 4\n",
    "cumulative_probability = poisson.cdf(k, lam)\n",
    "print(f\"P(X<={k} | λ={lam}) = {cumulative_probability}\")\n"
   ]
  },
  {
   "cell_type": "code",
   "execution_count": 7,
   "id": "d946c431",
   "metadata": {},
   "outputs": [
    {
     "name": "stdout",
     "output_type": "stream",
     "text": [
      "P(X > 4 | λ=3) = 0.1847367554762278\n"
     ]
    }
   ],
   "source": [
    "print(f\"P(X > {k} | λ={lam}) = {1-cumulative_probability}\")"
   ]
  },
  {
   "cell_type": "code",
   "execution_count": 4,
   "id": "30095742",
   "metadata": {},
   "outputs": [
    {
     "name": "stdout",
     "output_type": "stream",
     "text": [
      "P(X = 10 | λ=6) = 0.04130309341233764\n"
     ]
    }
   ],
   "source": [
    "print(f\"P(X = {10} | λ={6}) = {poisson.pmf(10, 6)}\")"
   ]
  },
  {
   "cell_type": "code",
   "execution_count": 19,
   "id": "94603264",
   "metadata": {},
   "outputs": [
    {
     "name": "stdout",
     "output_type": "stream",
     "text": [
      "P(X = 7 | λ=5) = 0.10444486295705395\n"
     ]
    }
   ],
   "source": [
    "print(f\"P(X = {7} | λ={5}) = {poisson.pmf(7, 5)}\")"
   ]
  },
  {
   "cell_type": "code",
   "execution_count": 20,
   "id": "ceddbfd0",
   "metadata": {},
   "outputs": [
    {
     "name": "stdout",
     "output_type": "stream",
     "text": [
      "P(X > 7 | λ=5) = 0.1333716740700075\n"
     ]
    }
   ],
   "source": [
    "print(f\"P(X > {7} | λ={5}) = {1- poisson.cdf(7, 5)}\")"
   ]
  },
  {
   "cell_type": "code",
   "execution_count": 21,
   "id": "85a65d15",
   "metadata": {},
   "outputs": [
    {
     "name": "stdout",
     "output_type": "stream",
     "text": [
      "P(X > 1 | λ=0.25) = 0.026499021160743874\n"
     ]
    }
   ],
   "source": [
    "print(f\"P(X > {1} | λ={0.25}) = {1- poisson.cdf(1, 0.25)}\")"
   ]
  },
  {
   "cell_type": "code",
   "execution_count": 25,
   "id": "b92db3b6",
   "metadata": {},
   "outputs": [
    {
     "name": "stdout",
     "output_type": "stream",
     "text": [
      "P(X > 1 | λ=0.8) = 0.19120786458900108\n"
     ]
    }
   ],
   "source": [
    "print(f\"P(X > {1} | λ={0.8}) = {1- poisson.cdf(1, 0.8)}\")"
   ]
  },
  {
   "cell_type": "code",
   "execution_count": 26,
   "id": "09bedcc2",
   "metadata": {},
   "outputs": [
    {
     "name": "stdout",
     "output_type": "stream",
     "text": [
      "P(X = 0 | λ=0.4) = 0.6703200460356393\n"
     ]
    }
   ],
   "source": [
    "print(f\"P(X = {0} | λ={0.4}) = {poisson.pmf(0, 0.4)}\")"
   ]
  },
  {
   "cell_type": "code",
   "execution_count": 27,
   "id": "47c82fc2",
   "metadata": {},
   "outputs": [
    {
     "name": "stdout",
     "output_type": "stream",
     "text": [
      "P(X = 5 | λ=3) = 0.10081881344492458\n"
     ]
    }
   ],
   "source": [
    "print(f\"P(X = {5} | λ={3}) = {poisson.pmf(5, 3)}\")"
   ]
  },
  {
   "cell_type": "markdown",
   "id": "46c204c9",
   "metadata": {},
   "source": [
    "##### Operational risk in a financial institution"
   ]
  },
  {
   "cell_type": "markdown",
   "id": "598b6dd9",
   "metadata": {},
   "source": [
    "A fintech company's trading server experiences an average of 1.2 system failures per month. The failures are rare and occur randomly."
   ]
  },
  {
   "cell_type": "code",
   "execution_count": 55,
   "id": "abe9a7a0",
   "metadata": {},
   "outputs": [
    {
     "name": "stdout",
     "output_type": "stream",
     "text": [
      "P(X=3 | λ=1.2) = 0.08674393303071422\n"
     ]
    }
   ],
   "source": [
    "# What is the probability of exactly 3 system failures next month?\n",
    "lam = 1.2\n",
    "k = 3\n",
    "probability = poisson.pmf(k, lam)\n",
    "print(f\"P(X={k} | λ={lam}) = {probability}\")"
   ]
  },
  {
   "cell_type": "code",
   "execution_count": 56,
   "id": "3812f8b6",
   "metadata": {},
   "outputs": [
    {
     "name": "stdout",
     "output_type": "stream",
     "text": [
      "P(X<=2 | λ=1.2) = 0.6626272662068446\n"
     ]
    }
   ],
   "source": [
    "# What is the probability of fewer than 2 system failures next month?\n",
    "lam = 1.2\n",
    "k = 2\n",
    "cumulative_probability = poisson.cdf(k-1, lam)\n",
    "print(f\"P(X<={k} | λ={lam}) = {cumulative_probability}\")"
   ]
  },
  {
   "cell_type": "code",
   "execution_count": 57,
   "id": "55afac39",
   "metadata": {},
   "outputs": [
    {
     "name": "stdout",
     "output_type": "stream",
     "text": [
      "P(X<=3 | λ=1.2) = 0.9662310318143443\n"
     ]
    }
   ],
   "source": [
    "# The company defines a \"crisis month\" as one with 4 or more system failures. \n",
    "# What is the probability of a crisis month?\n",
    "lam = 1.2\n",
    "k = 4\n",
    "cumulative_probability = poisson.cdf(k-1, lam)\n",
    "print(f\"P(X<={k-1} | λ={lam}) = {cumulative_probability}\")"
   ]
  },
  {
   "cell_type": "code",
   "execution_count": 58,
   "id": "e7f84b1a",
   "metadata": {},
   "outputs": [
    {
     "name": "stdout",
     "output_type": "stream",
     "text": [
      "P(X>=4 | λ=1.2) = 0.03376896818565567\n"
     ]
    }
   ],
   "source": [
    "print(f\"P(X>={k} | λ={lam}) = {1-cumulative_probability}\")"
   ]
  },
  {
   "cell_type": "markdown",
   "id": "a55eaa52",
   "metadata": {},
   "source": [
    "##### Insurance claims frequency"
   ]
  },
  {
   "cell_type": "markdown",
   "id": "27e50e1f",
   "metadata": {},
   "source": [
    "An insurance company receives an average of 6 claims per week for a certain type of policy. \n",
    "Claims are filed independently and at a constant rate."
   ]
  },
  {
   "cell_type": "code",
   "execution_count": 8,
   "id": "08d71f6f",
   "metadata": {},
   "outputs": [
    {
     "name": "stdout",
     "output_type": "stream",
     "text": [
      "P(X=8 | λ=6) = 0.1032577335308442\n"
     ]
    }
   ],
   "source": [
    "# What is the probability of receiving exactly 8 claims next week?\n",
    "lam = 6\n",
    "k = 8\n",
    "probability = poisson.pmf(k, lam)\n",
    "print(f\"P(X={k} | λ={lam}) = {probability}\")"
   ]
  },
  {
   "cell_type": "markdown",
   "id": "4e1aed6e",
   "metadata": {},
   "source": [
    "##### Portfolio rebalancing"
   ]
  },
  {
   "cell_type": "markdown",
   "id": "37cfd51f",
   "metadata": {},
   "source": [
    "An investment analyst uses a statistical model where the number of buy or sell orders for a particular stock follows a Poisson distribution. \n",
    "The analyst observes an average of 4 trades per minute during a 10-minute trading period."
   ]
  },
  {
   "cell_type": "code",
   "execution_count": 8,
   "id": "7125c9c9",
   "metadata": {},
   "outputs": [
    {
     "data": {
      "text/plain": [
       "40"
      ]
     },
     "execution_count": 8,
     "metadata": {},
     "output_type": "execute_result"
    }
   ],
   "source": [
    "# What is the average number of trades over the 10-minute period?\n",
    "# Average number of trades over the 10-minute period:\n",
    "10*4"
   ]
  },
  {
   "cell_type": "code",
   "execution_count": 9,
   "id": "e50b8e78",
   "metadata": {},
   "outputs": [
    {
     "name": "stdout",
     "output_type": "stream",
     "text": [
      "P(X=5 | λ=4) = 0.1562934518505317\n"
     ]
    }
   ],
   "source": [
    "# What is the probability of observing exactly 4 trades in a single minute?\n",
    "lam = 4\n",
    "k = 5\n",
    "probability = poisson.pmf(k, lam)\n",
    "print(f\"P(X={k} | λ={lam}) = {probability}\")"
   ]
  },
  {
   "cell_type": "code",
   "execution_count": 9,
   "id": "584cb60b",
   "metadata": {},
   "outputs": [
    {
     "name": "stdout",
     "output_type": "stream",
     "text": [
      "P(X<=9 | λ=40) = 3.925932226286184e-09\n"
     ]
    }
   ],
   "source": [
    "# What is the probability of observing 10 or more trades over the 10-minute period?\n",
    "lam = 40\n",
    "k = 10\n",
    "cumulative_probability = poisson.cdf(k-1, lam)\n",
    "print(f\"P(X<={k-1} | λ={lam}) = {cumulative_probability}\")"
   ]
  },
  {
   "cell_type": "code",
   "execution_count": 10,
   "id": "5eb84c10",
   "metadata": {},
   "outputs": [
    {
     "name": "stdout",
     "output_type": "stream",
     "text": [
      "P(X=2 | λ=1) = 0.18393972058572114\n"
     ]
    }
   ],
   "source": [
    "print(f\"P(X={2} | λ={1}) = {poisson.pmf(2, 1)}\")"
   ]
  },
  {
   "cell_type": "code",
   "execution_count": 10,
   "id": "3013c2f3",
   "metadata": {},
   "outputs": [
    {
     "name": "stdout",
     "output_type": "stream",
     "text": [
      "P(X>=10 | λ=40) = 0.9999999960740678\n"
     ]
    }
   ],
   "source": [
    "print(f\"P(X>={k} | λ={lam}) = {1-cumulative_probability}\")"
   ]
  },
  {
   "cell_type": "code",
   "execution_count": null,
   "id": "d4d90794",
   "metadata": {},
   "outputs": [],
   "source": []
  },
  {
   "cell_type": "markdown",
   "id": "63be1941",
   "metadata": {},
   "source": [
    "## 1. Pricing Models"
   ]
  },
  {
   "cell_type": "markdown",
   "id": "00848cd8",
   "metadata": {},
   "source": [
    "### Simple interest"
   ]
  },
  {
   "cell_type": "markdown",
   "id": "2f21a005",
   "metadata": {},
   "source": [
    "Common uses include auto loans, short-term loans, and some mortgages.  "
   ]
  },
  {
   "cell_type": "markdown",
   "id": "da6d71c5",
   "metadata": {},
   "source": [
    "The equation\n",
    "$$FV=PV(1+rn)$$\n",
    "calculates the future value of an initial investment based on a simple, non-compounding interest rate over a set number of periods. In this formula, the variables represent the following: \n"
   ]
  },
  {
   "cell_type": "markdown",
   "id": "8547386c",
   "metadata": {},
   "source": [
    "- $FV$ -- future value;\n",
    "- $PV$ -- present value (or Principal), the initial amount of the investment;\n",
    "- $n$ -- Number of periods;\n",
    "- $r$ -- Interest rate: The periodic interest rate (expressed as a decimal)"
   ]
  },
  {
   "cell_type": "markdown",
   "id": "ab78a430",
   "metadata": {},
   "source": [
    "### Compound Interest"
   ]
  },
  {
   "cell_type": "markdown",
   "id": "bc7bc68d",
   "metadata": {},
   "source": [
    "In contrast, the more common formula for future value uses compound interest, which calculates interest on both the principal and any accumulated interest.\n",
    "$$FV=PV(1+r)^n$$"
   ]
  },
  {
   "cell_type": "markdown",
   "id": "83cff2fb",
   "metadata": {},
   "source": [
    "- $FV$ -- future value;\n",
    "- $PV$ -- present value (or Principal), the initial amount of the investment;\n",
    "- $n$ -- the total number of compounding periods;\n",
    "- $r$ -- Interest rate: The periodic interest rate (expressed as a decimal)"
   ]
  },
  {
   "cell_type": "markdown",
   "id": "9fbf6455",
   "metadata": {},
   "source": [
    "### Effective Interest"
   ]
  },
  {
   "cell_type": "markdown",
   "id": "d73bb009",
   "metadata": {},
   "source": [
    "$$E = \\bigg(1+\\frac{i}{n}\\bigg)^n - 1$$"
   ]
  },
  {
   "cell_type": "markdown",
   "id": "a0b80775",
   "metadata": {},
   "source": [
    "- $i$ -- nominal interest rate\n",
    "- $n$ -- number of compounding periods"
   ]
  },
  {
   "cell_type": "markdown",
   "id": "d16927e3",
   "metadata": {},
   "source": [
    "### Discounted rate"
   ]
  },
  {
   "cell_type": "markdown",
   "id": "1be95370",
   "metadata": {},
   "source": [
    "$$DR = \\bigg(\\frac{FV}{PV}\\bigg)^{1/n}-1$$"
   ]
  },
  {
   "cell_type": "markdown",
   "id": "b2004aa0",
   "metadata": {},
   "source": [
    "**Discounted Cash Flow (DCF)** is used to estimate the value of an investment based on its expected future cash flows. \n",
    "Based on the concept of the time value of money, DCF analysis helps assess the viability of a project or investment by calculating the present value of expected future cash flows using a discount rate."
   ]
  },
  {
   "cell_type": "markdown",
   "id": "11a7c9a9",
   "metadata": {},
   "source": [
    "In corporate finance, a **discount rate** is the rate of return used to discount future cash flows back to their present value. \n",
    "This rate is often a company’s **Weighted Average Cost of Capital (WACC)**, required rate of return, or the hurdle rate that investors expect to earn relative to the risk of the investment."
   ]
  },
  {
   "cell_type": "markdown",
   "id": "447fa32d",
   "metadata": {},
   "source": [
    "In corporate finance, there are only a few types of discount rates that are used to discount future cash flows back to the present. They include:\n",
    "\n",
    "- **Weighted Average Cost of Capital (WACC)** – for calculating the enterprise value of a firm.\n",
    "    Investors can include equity shareholders and bondholders.\n",
    "- **Cost of Equity** – for calculating the equity value of a firm.\n",
    "    Investors expect a specific rate of return in exchange for taking on the risk of investing in a company.\n",
    "- **Cost of Debt** – for calculating the value of a bond or fixed-income security. \n",
    "    Companies must take on debt to finance their operations and keep the business running. \n",
    "    The interest rate they pay on this debt is known as the cost of debt.\n",
    "- A pre-defined **hurdle rate** – for investing in internal corporate projects. \n",
    "    The minimum rate of return on a certain investment or undertaking is known as the hurdle rate. \n",
    "    This allows them to make important decisions on whether the venture is a good fit.\n",
    "- **Risk-Free Rate** – to account for the time value of money"
   ]
  },
  {
   "cell_type": "markdown",
   "id": "3c92ef29",
   "metadata": {},
   "source": [
    "## 2. Modern Portfolio Theory (MPT)"
   ]
  },
  {
   "cell_type": "code",
   "execution_count": 100,
   "id": "bd5c5d61",
   "metadata": {},
   "outputs": [],
   "source": [
    "import matplotlib.pyplot as plt\n",
    "import seaborn as sns\n",
    "# from scipy.stats import bernoulli, binom, poisson\n",
    "import numpy as np\n",
    "import random as rm\n",
    "\n",
    "from hmmlearn import hmm\n",
    "import pandas as pd\n",
    "\n",
    "import sympy"
   ]
  },
  {
   "cell_type": "markdown",
   "id": "5e774a5a",
   "metadata": {},
   "source": [
    "In finance, a portfolio, inspired by Harry Markowitz, refers to a collection of financial assets such as stocks, bonds, commodities, and ETFs, aimed at diversification to mitigate risk while maximizing returns."
   ]
  },
  {
   "cell_type": "markdown",
   "id": "311c1954",
   "metadata": {},
   "source": [
    "The **modern portfolio theory (MPT)** is a mathematical framework that’s used to build a portfolio of assets that maximizes the expected return for the collective level of risk."
   ]
  },
  {
   "cell_type": "markdown",
   "id": "a2672988",
   "metadata": {},
   "source": [
    "### yfinance"
   ]
  },
  {
   "cell_type": "code",
   "execution_count": null,
   "id": "f05161ba",
   "metadata": {},
   "outputs": [],
   "source": [
    "portfolio = pd.DataFrame({\n",
    "    \"MNST\": monster.Close,\n",
    "    \"KDP\": pepper.Close,\n",
    "    \"PEP\": pepsi.Close,\n",
    "    \"COKE\": coke.Close\n",
    "})\n",
    "portfolio.head(2)"
   ]
  },
  {
   "cell_type": "code",
   "execution_count": 8,
   "id": "7a7a5dff",
   "metadata": {},
   "outputs": [
    {
     "data": {
      "text/html": [
       "<div>\n",
       "<style scoped>\n",
       "    .dataframe tbody tr th:only-of-type {\n",
       "        vertical-align: middle;\n",
       "    }\n",
       "\n",
       "    .dataframe tbody tr th {\n",
       "        vertical-align: top;\n",
       "    }\n",
       "\n",
       "    .dataframe thead th {\n",
       "        text-align: right;\n",
       "    }\n",
       "</style>\n",
       "<table border=\"1\" class=\"dataframe\">\n",
       "  <thead>\n",
       "    <tr style=\"text-align: right;\">\n",
       "      <th></th>\n",
       "      <th>MNST</th>\n",
       "      <th>KDP</th>\n",
       "      <th>PEP</th>\n",
       "      <th>COKE</th>\n",
       "    </tr>\n",
       "    <tr>\n",
       "      <th>Date</th>\n",
       "      <th></th>\n",
       "      <th></th>\n",
       "      <th></th>\n",
       "      <th></th>\n",
       "    </tr>\n",
       "  </thead>\n",
       "  <tbody>\n",
       "    <tr>\n",
       "      <th>2025-09-02 00:00:00-04:00</th>\n",
       "      <td>NaN</td>\n",
       "      <td>NaN</td>\n",
       "      <td>NaN</td>\n",
       "      <td>NaN</td>\n",
       "    </tr>\n",
       "    <tr>\n",
       "      <th>2025-09-03 00:00:00-04:00</th>\n",
       "      <td>0.013404</td>\n",
       "      <td>0.006226</td>\n",
       "      <td>-0.010913</td>\n",
       "      <td>0.002138</td>\n",
       "    </tr>\n",
       "    <tr>\n",
       "      <th>2025-09-04 00:00:00-04:00</th>\n",
       "      <td>-0.000945</td>\n",
       "      <td>0.005500</td>\n",
       "      <td>-0.011773</td>\n",
       "      <td>0.018090</td>\n",
       "    </tr>\n",
       "    <tr>\n",
       "      <th>2025-09-05 00:00:00-04:00</th>\n",
       "      <td>-0.015603</td>\n",
       "      <td>-0.020513</td>\n",
       "      <td>0.006345</td>\n",
       "      <td>0.012572</td>\n",
       "    </tr>\n",
       "    <tr>\n",
       "      <th>2025-09-08 00:00:00-04:00</th>\n",
       "      <td>0.008966</td>\n",
       "      <td>-0.035602</td>\n",
       "      <td>-0.031969</td>\n",
       "      <td>0.013989</td>\n",
       "    </tr>\n",
       "  </tbody>\n",
       "</table>\n",
       "</div>"
      ],
      "text/plain": [
       "                               MNST       KDP       PEP      COKE\n",
       "Date                                                             \n",
       "2025-09-02 00:00:00-04:00       NaN       NaN       NaN       NaN\n",
       "2025-09-03 00:00:00-04:00  0.013404  0.006226 -0.010913  0.002138\n",
       "2025-09-04 00:00:00-04:00 -0.000945  0.005500 -0.011773  0.018090\n",
       "2025-09-05 00:00:00-04:00 -0.015603 -0.020513  0.006345  0.012572\n",
       "2025-09-08 00:00:00-04:00  0.008966 -0.035602 -0.031969  0.013989"
      ]
     },
     "execution_count": 8,
     "metadata": {},
     "output_type": "execute_result"
    }
   ],
   "source": [
    "portfolio_returns = portfolio.pct_change()\n",
    "portfolio_returns.head()"
   ]
  },
  {
   "cell_type": "code",
   "execution_count": 9,
   "id": "cf9f5f3d",
   "metadata": {},
   "outputs": [
    {
     "data": {
      "text/html": [
       "<div>\n",
       "<style scoped>\n",
       "    .dataframe tbody tr th:only-of-type {\n",
       "        vertical-align: middle;\n",
       "    }\n",
       "\n",
       "    .dataframe tbody tr th {\n",
       "        vertical-align: top;\n",
       "    }\n",
       "\n",
       "    .dataframe thead th {\n",
       "        text-align: right;\n",
       "    }\n",
       "</style>\n",
       "<table border=\"1\" class=\"dataframe\">\n",
       "  <thead>\n",
       "    <tr style=\"text-align: right;\">\n",
       "      <th></th>\n",
       "      <th>MNST</th>\n",
       "      <th>KDP</th>\n",
       "      <th>PEP</th>\n",
       "      <th>COKE</th>\n",
       "    </tr>\n",
       "  </thead>\n",
       "  <tbody>\n",
       "    <tr>\n",
       "      <th>MNST</th>\n",
       "      <td>0.000127</td>\n",
       "      <td>0.000044</td>\n",
       "      <td>-0.000096</td>\n",
       "      <td>-0.000040</td>\n",
       "    </tr>\n",
       "    <tr>\n",
       "      <th>KDP</th>\n",
       "      <td>0.000044</td>\n",
       "      <td>0.000338</td>\n",
       "      <td>0.000130</td>\n",
       "      <td>-0.000054</td>\n",
       "    </tr>\n",
       "    <tr>\n",
       "      <th>PEP</th>\n",
       "      <td>-0.000096</td>\n",
       "      <td>0.000130</td>\n",
       "      <td>0.000280</td>\n",
       "      <td>-0.000057</td>\n",
       "    </tr>\n",
       "    <tr>\n",
       "      <th>COKE</th>\n",
       "      <td>-0.000040</td>\n",
       "      <td>-0.000054</td>\n",
       "      <td>-0.000057</td>\n",
       "      <td>0.000058</td>\n",
       "    </tr>\n",
       "  </tbody>\n",
       "</table>\n",
       "</div>"
      ],
      "text/plain": [
       "          MNST       KDP       PEP      COKE\n",
       "MNST  0.000127  0.000044 -0.000096 -0.000040\n",
       "KDP   0.000044  0.000338  0.000130 -0.000054\n",
       "PEP  -0.000096  0.000130  0.000280 -0.000057\n",
       "COKE -0.000040 -0.000054 -0.000057  0.000058"
      ]
     },
     "execution_count": 9,
     "metadata": {},
     "output_type": "execute_result"
    }
   ],
   "source": [
    "cov_matrix = portfolio_returns.cov()\n",
    "cov_matrix"
   ]
  },
  {
   "cell_type": "markdown",
   "id": "c2828799",
   "metadata": {},
   "source": [
    "### Portfolio"
   ]
  },
  {
   "cell_type": "code",
   "execution_count": 88,
   "id": "1b79db6c",
   "metadata": {},
   "outputs": [],
   "source": [
    "ts = np.linspace(0, 1, num=50, endpoint=True)\n",
    "corrs = np.linspace(-1, 1, num=20, endpoint=True)"
   ]
  },
  {
   "cell_type": "code",
   "execution_count": 89,
   "id": "de7d47ec",
   "metadata": {},
   "outputs": [],
   "source": [
    "sigmas = dict()\n",
    "mus = dict()\n",
    "\n",
    "for t in ts:\n",
    "    for corr in corrs:\n",
    "        cov_matrix = np.array([[0.15**2, corr*0.15*0.45], [corr*0.15*0.45, 0.45**2]])\n",
    "        nu = np.array([t, 1-t])\n",
    "        sigmas[(t, corr)] = np.sqrt(np.transpose(nu) @ cov_matrix @ nu)\n",
    "        mus[(t, corr)] = 0.12*t+(1-t)*0.2"
   ]
  },
  {
   "cell_type": "code",
   "execution_count": 90,
   "id": "7331a9ce",
   "metadata": {},
   "outputs": [
    {
     "data": {
      "text/html": [
       "<div>\n",
       "<style scoped>\n",
       "    .dataframe tbody tr th:only-of-type {\n",
       "        vertical-align: middle;\n",
       "    }\n",
       "\n",
       "    .dataframe tbody tr th {\n",
       "        vertical-align: top;\n",
       "    }\n",
       "\n",
       "    .dataframe thead th {\n",
       "        text-align: right;\n",
       "    }\n",
       "</style>\n",
       "<table border=\"1\" class=\"dataframe\">\n",
       "  <thead>\n",
       "    <tr style=\"text-align: right;\">\n",
       "      <th></th>\n",
       "      <th>t</th>\n",
       "      <th>corr</th>\n",
       "      <th>std</th>\n",
       "      <th>mean</th>\n",
       "    </tr>\n",
       "  </thead>\n",
       "  <tbody>\n",
       "    <tr>\n",
       "      <th>0</th>\n",
       "      <td>0.0</td>\n",
       "      <td>-1.000000</td>\n",
       "      <td>0.45</td>\n",
       "      <td>0.2</td>\n",
       "    </tr>\n",
       "    <tr>\n",
       "      <th>1</th>\n",
       "      <td>0.0</td>\n",
       "      <td>-0.894737</td>\n",
       "      <td>0.45</td>\n",
       "      <td>0.2</td>\n",
       "    </tr>\n",
       "  </tbody>\n",
       "</table>\n",
       "</div>"
      ],
      "text/plain": [
       "     t      corr   std  mean\n",
       "0  0.0 -1.000000  0.45   0.2\n",
       "1  0.0 -0.894737  0.45   0.2"
      ]
     },
     "execution_count": 90,
     "metadata": {},
     "output_type": "execute_result"
    }
   ],
   "source": [
    "df = pd.DataFrame({\"sigma\": sigmas, \"mu\": mus}).reset_index()\n",
    "df.columns = ['t', 'corr', 'std', 'mean']\n",
    "df.head(2)"
   ]
  },
  {
   "cell_type": "code",
   "execution_count": 91,
   "id": "024003d1",
   "metadata": {},
   "outputs": [],
   "source": [
    "# sns.scatterplot(x='sigma', y='mu', hue='level_1', style='level_0', data=df)\n",
    "# # plt.title('Scatter Plot with Hue and Style')\n",
    "# plt.show()"
   ]
  },
  {
   "cell_type": "code",
   "execution_count": 93,
   "id": "e8bc8798",
   "metadata": {},
   "outputs": [
    {
     "data": {
      "image/png": "[encoded data removed]",
      "text/plain": [
       "<Figure size 640x480 with 1 Axes>"
      ]
     },
     "metadata": {},
     "output_type": "display_data"
    }
   ],
   "source": [
    "sns.lineplot(data=df[df['corr']>=0], x=\"std\", y=\"mean\", hue=\"corr\")\n",
    "# plt.title(\"Passengers over Years by Month\")\n",
    "plt.show()"
   ]
  },
  {
   "cell_type": "code",
   "execution_count": 94,
   "id": "a0175c5e",
   "metadata": {},
   "outputs": [
    {
     "data": {
      "image/png": "[encoded data removed]",
      "text/plain": [
       "<Figure size 640x480 with 1 Axes>"
      ]
     },
     "metadata": {},
     "output_type": "display_data"
    }
   ],
   "source": [
    "sns.lineplot(data=df, x=\"std\", y=\"mean\", hue=\"corr\")\n",
    "# plt.title(\"Passengers over Years by Month\")\n",
    "plt.show()"
   ]
  },
  {
   "cell_type": "code",
   "execution_count": 29,
   "id": "46f22b9e",
   "metadata": {},
   "outputs": [
    {
     "name": "stdout",
     "output_type": "stream",
     "text": [
      "0.1521 0.39\n"
     ]
    }
   ],
   "source": [
    "cov_matrix = np.array([[0.15**2, -0.15*0.45], [-0.15*0.45, 0.45**2]])\n",
    "nu = np.array([0.1, 0.9])\n",
    "print(np.transpose(nu) @ cov_matrix @ nu, np.sqrt(np.transpose(nu) @ cov_matrix @ nu))"
   ]
  },
  {
   "cell_type": "code",
   "execution_count": 31,
   "id": "876b8967",
   "metadata": {},
   "outputs": [
    {
     "name": "stdout",
     "output_type": "stream",
     "text": [
      "0.0441 0.21\n"
     ]
    }
   ],
   "source": [
    "cov_matrix = np.array([[0.15**2, -0.15*0.45], [-0.15*0.45, 0.45**2]])\n",
    "nu = np.array([0.4, 0.6])\n",
    "print(np.transpose(nu) @ cov_matrix @ nu, np.sqrt(np.transpose(nu) @ cov_matrix @ nu))"
   ]
  },
  {
   "cell_type": "code",
   "execution_count": 27,
   "id": "cad96747",
   "metadata": {},
   "outputs": [
    {
     "data": {
      "text/plain": [
       "np.float64(0.35385000000000005)"
      ]
     },
     "execution_count": 27,
     "metadata": {},
     "output_type": "execute_result"
    }
   ],
   "source": [
    "np.transpose(nu) @ cov_matrix @ nu"
   ]
  },
  {
   "cell_type": "code",
   "execution_count": 126,
   "id": "4684b51b",
   "metadata": {},
   "outputs": [],
   "source": [
    "cov_matrix = np.array([[0.2**2, 0.5*0.2*0.3], [0.5*0.2*0.3, 0.3**2]])\n",
    "\n",
    "ts = ts = np.linspace(0, 1, num=150, endpoint=True)\n",
    "\n",
    "# stds = dict()\n",
    "stds = []\n",
    "\n",
    "for t in ts:\n",
    "    nu = np.array([t, 1-t])\n",
    "    stds.append( np.transpose(nu) @ cov_matrix @ nu)"
   ]
  },
  {
   "cell_type": "code",
   "execution_count": 127,
   "id": "1bef31eb",
   "metadata": {},
   "outputs": [
    {
     "data": {
      "image/png": "[encoded data removed]",
      "text/plain": [
       "<Figure size 640x480 with 1 Axes>"
      ]
     },
     "metadata": {},
     "output_type": "display_data"
    }
   ],
   "source": [
    "plt.scatter(x=ts, y= stds)\n",
    "plt.show()\n"
   ]
  },
  {
   "cell_type": "markdown",
   "id": "9c9dec36",
   "metadata": {},
   "source": [
    "### Portfolio 2"
   ]
  },
  {
   "cell_type": "code",
   "execution_count": 117,
   "id": "214c0e09",
   "metadata": {},
   "outputs": [],
   "source": [
    "x = sympy.symbols('x')"
   ]
  },
  {
   "cell_type": "code",
   "execution_count": 118,
   "id": "cd12842d",
   "metadata": {},
   "outputs": [],
   "source": [
    "cov_matrix = np.array([[0.1**2, 0.5*0.1*0.2], [0.5*0.1*0.2, 0.2**2]])\n",
    "nu = np.array([x, 1-x])\n",
    "mu = 0.2*x + (1-x)*0.3\n",
    "sigmas = np.transpose(nu) @ cov_matrix @ nu"
   ]
  },
  {
   "cell_type": "code",
   "execution_count": 119,
   "id": "88106ddf",
   "metadata": {},
   "outputs": [
    {
     "data": {
      "text/latex": [
       "$\\displaystyle 0.03 x^{2} - 0.06 x + 0.04$"
      ],
      "text/plain": [
       "0.03*x**2 - 0.06*x + 0.04"
      ]
     },
     "execution_count": 119,
     "metadata": {},
     "output_type": "execute_result"
    }
   ],
   "source": [
    "sympy.simplify(sigmas)"
   ]
  },
  {
   "cell_type": "code",
   "execution_count": 121,
   "id": "99b08df5",
   "metadata": {},
   "outputs": [
    {
     "data": {
      "text/plain": [
       "[1.00000000000000]"
      ]
     },
     "execution_count": 121,
     "metadata": {},
     "output_type": "execute_result"
    }
   ],
   "source": [
    "sympy.solve(sympy.diff(sigmas, x), x)"
   ]
  },
  {
   "cell_type": "code",
   "execution_count": 123,
   "id": "e7fcaa46",
   "metadata": {},
   "outputs": [
    {
     "data": {
      "text/latex": [
       "$\\displaystyle - 0.04 x^{2} + 0.02 x + 0.17$"
      ],
      "text/plain": [
       "-0.04*x**2 + 0.02*x + 0.17"
      ]
     },
     "execution_count": 123,
     "metadata": {},
     "output_type": "execute_result"
    }
   ],
   "source": [
    "sympy.simplify(mu - mu**2 - sigmas)"
   ]
  },
  {
   "cell_type": "code",
   "execution_count": 116,
   "id": "07c96bb7",
   "metadata": {},
   "outputs": [
    {
     "data": {
      "text/plain": [
       "[0.250000000000000]"
      ]
     },
     "execution_count": 116,
     "metadata": {},
     "output_type": "execute_result"
    }
   ],
   "source": [
    "sympy.solve(sympy.diff(mu - mu**2 - sigmas, x), x)"
   ]
  },
  {
   "cell_type": "code",
   "execution_count": 122,
   "id": "fecb7f82",
   "metadata": {},
   "outputs": [
    {
     "data": {
      "text/plain": [
       "0.27499999999999997"
      ]
     },
     "execution_count": 122,
     "metadata": {},
     "output_type": "execute_result"
    }
   ],
   "source": [
    "0.2*0.25 + 0.3*0.75"
   ]
  },
  {
   "cell_type": "code",
   "execution_count": 103,
   "id": "d0da2b50",
   "metadata": {},
   "outputs": [
    {
     "data": {
      "text/plain": [
       "np.float64(0.15)"
      ]
     },
     "execution_count": 103,
     "metadata": {},
     "output_type": "execute_result"
    }
   ],
   "source": [
    "sigmas"
   ]
  },
  {
   "cell_type": "code",
   "execution_count": 125,
   "id": "3eb1ecba",
   "metadata": {},
   "outputs": [
    {
     "data": {
      "text/plain": [
       "0.026875000000000003"
      ]
     },
     "execution_count": 125,
     "metadata": {},
     "output_type": "execute_result"
    }
   ],
   "source": [
    "0.03* 0.25**2 - 0.06 * 0.25+0.04"
   ]
  },
  {
   "cell_type": "markdown",
   "id": "4aa63bfc",
   "metadata": {},
   "source": [
    "### Martingales"
   ]
  },
  {
   "cell_type": "markdown",
   "id": "80e22fc0",
   "metadata": {},
   "source": [
    "Consider the Binomial asset-pricing model. \n",
    "Let $M_0, M_1, ..., M_N$ be a sequence of random variables, with each $M_n$ depending only on the first $n$ coin tosses (and $M_0$ constan).\n",
    "Such a sequence oof random variables is called an **adapted stochastic process**."
   ]
  },
  {
   "cell_type": "markdown",
   "id": "5d0a18d0",
   "metadata": {},
   "source": [
    "If \n",
    "$$M_n = \\mathbb{E}_n[M_{n+1}], \\ \\ \\ n=0, 1, ..., N-1,$$\n",
    "we say this process is a **martingale**."
   ]
  },
  {
   "cell_type": "markdown",
   "id": "3f935dda",
   "metadata": {},
   "source": [
    "If \n",
    "$$M_n \\leq \\mathbb{E}_n[M_{n+1}], \\ \\ \\ n=0, 1, ..., N-1,$$\n",
    "we say this process is a **submartingale** (even though it may have a tendency to increase)."
   ]
  },
  {
   "cell_type": "markdown",
   "id": "12bc744d",
   "metadata": {},
   "source": [
    "If \n",
    "$$M_n \\geq \\mathbb{E}_n[M_{n+1}], \\ \\ \\ n=0, 1, ..., N-1,$$\n",
    "we say this process is a **supermartingale** (even though it may have a tendency to decrease)."
   ]
  },
  {
   "cell_type": "code",
   "execution_count": null,
   "id": "d6a4419e",
   "metadata": {},
   "outputs": [],
   "source": [
    "# Define the risk-free bond and the risky stock with their respective prices in two states\n",
    "B = np.array([10, 10])  # Risk-free bond price remains the same in both states\n",
    "S = np.array([20, 5])  # Risky stock price in an upward state and a downward state"
   ]
  },
  {
   "cell_type": "code",
   "execution_count": null,
   "id": "8d14d16a",
   "metadata": {},
   "outputs": [],
   "source": [
    "# The contingent claim we aim to replicate\n",
    "C1 = np.array([15, 5])  # Payoff of the contingent claim in upward and downward states\n",
    "\n",
    "# The matrix representing the price processes of the bond and the stock\n",
    "M = np.array([[B[0], S[0]], [B[1], S[1]]])"
   ]
  },
  {
   "cell_type": "code",
   "execution_count": null,
   "id": "b512a198",
   "metadata": {},
   "outputs": [],
   "source": [
    "# Solving the replication problem\n",
    "# We aim to find portfolio weights (phi) such that M * phi = C1\n",
    "phi = np.linalg.solve(M, C1)\n",
    "\n",
    "print(f\"The replication portfolio weights are: {phi}\")"
   ]
  },
  {
   "cell_type": "markdown",
   "id": "85351dd5",
   "metadata": {},
   "source": [
    "### Markov Process"
   ]
  },
  {
   "cell_type": "code",
   "execution_count": 11,
   "id": "02d71ab8",
   "metadata": {},
   "outputs": [
    {
     "data": {
      "text/plain": [
       "array([[ 0.0002, -0.001 ],\n",
       "       [-0.001 ,  0.005 ]])"
      ]
     },
     "execution_count": 11,
     "metadata": {},
     "output_type": "execute_result"
    }
   ],
   "source": [
    "A = np.array([0.1, 0.12])\n",
    "B = np.array([0.3, 0.2])\n",
    "# AB = np.array([[0.1, 0.12], [0.3, 0.2]])\n",
    "data = np.vstack((A, B))\n",
    "np.cov(data)"
   ]
  },
  {
   "cell_type": "code",
   "execution_count": 19,
   "id": "2a00bd65",
   "metadata": {},
   "outputs": [
    {
     "data": {
      "text/html": [
       "<div>\n",
       "<style scoped>\n",
       "    .dataframe tbody tr th:only-of-type {\n",
       "        vertical-align: middle;\n",
       "    }\n",
       "\n",
       "    .dataframe tbody tr th {\n",
       "        vertical-align: top;\n",
       "    }\n",
       "\n",
       "    .dataframe thead th {\n",
       "        text-align: right;\n",
       "    }\n",
       "</style>\n",
       "<table border=\"1\" class=\"dataframe\">\n",
       "  <thead>\n",
       "    <tr style=\"text-align: right;\">\n",
       "      <th></th>\n",
       "      <th>A</th>\n",
       "      <th>B</th>\n",
       "      <th>F</th>\n",
       "    </tr>\n",
       "  </thead>\n",
       "  <tbody>\n",
       "    <tr>\n",
       "      <th>A</th>\n",
       "      <td>0.080</td>\n",
       "      <td>-0.0200</td>\n",
       "      <td>0.01800</td>\n",
       "    </tr>\n",
       "    <tr>\n",
       "      <th>B</th>\n",
       "      <td>-0.020</td>\n",
       "      <td>0.0050</td>\n",
       "      <td>-0.00450</td>\n",
       "    </tr>\n",
       "    <tr>\n",
       "      <th>F</th>\n",
       "      <td>0.018</td>\n",
       "      <td>-0.0045</td>\n",
       "      <td>0.00405</td>\n",
       "    </tr>\n",
       "  </tbody>\n",
       "</table>\n",
       "</div>"
      ],
      "text/plain": [
       "       A       B        F\n",
       "A  0.080 -0.0200  0.01800\n",
       "B -0.020  0.0050 -0.00450\n",
       "F  0.018 -0.0045  0.00405"
      ]
     },
     "execution_count": 19,
     "metadata": {},
     "output_type": "execute_result"
    }
   ],
   "source": [
    "data = {'A': [0.1, 0.5],\n",
    "        'B': [0.3, 0.2],\n",
    "        'F':[0, 0.09]}\n",
    "df = pd.DataFrame(data)\n",
    "df.cov()"
   ]
  },
  {
   "cell_type": "code",
   "execution_count": 22,
   "id": "e05aebf7",
   "metadata": {},
   "outputs": [
    {
     "data": {
      "text/plain": [
       "array([[1.00000000e+00, 1.29970109e-15],\n",
       "       [6.20902506e-18, 1.00000000e+00]])"
      ]
     },
     "execution_count": 22,
     "metadata": {},
     "output_type": "execute_result"
    }
   ],
   "source": [
    "np.linalg.inv(np.array([[0.01, 0.015], [0.015, 0.09]]))@ np.array([[0.01, 0.015], [0.015, 0.09]])"
   ]
  },
  {
   "cell_type": "code",
   "execution_count": null,
   "id": "16988965",
   "metadata": {},
   "outputs": [],
   "source": [
    "()"
   ]
  },
  {
   "cell_type": "code",
   "execution_count": 17,
   "id": "18100b53",
   "metadata": {},
   "outputs": [
    {
     "data": {
      "text/plain": [
       "np.float64(0.125)"
      ]
     },
     "execution_count": 17,
     "metadata": {},
     "output_type": "execute_result"
    }
   ],
   "source": [
    "np.sqrt(0.25*0.25 * 0.0025 + 0.75*0.75*0.0225 +2*0.25*0.75*0.0075)"
   ]
  },
  {
   "cell_type": "code",
   "execution_count": null,
   "id": "3e6aba52",
   "metadata": {},
   "outputs": [],
   "source": [
    "# The statespace\n",
    "states = [\"Sleep\",\"Icecream\",\"Run\"]\n",
    "\n",
    "# Possible sequences of events\n",
    "transitionName = [[\"SS\",\"SR\",\"SI\"],[\"RS\",\"RR\",\"RI\"],[\"IS\",\"IR\",\"II\"]]\n",
    "\n",
    "# Probabilities matrix (transition matrix)\n",
    "transitionMatrix = [[0.2,0.6,0.2],[0.1,0.6,0.3],[0.2,0.7,0.1]]"
   ]
  },
  {
   "cell_type": "code",
   "execution_count": 4,
   "id": "896a53f1",
   "metadata": {},
   "outputs": [],
   "source": [
    "# Example transition matrix for 3 market states (e.g., Low, Mid, High Volatility)\n",
    "transition_matrix = np.array([\n",
    "    [0.8, 0.15, 0.05],  # From Low Volatility\n",
    "    [0.2, 0.6, 0.2],   # From Mid Volatility\n",
    "    [0.05, 0.25, 0.7]   # From High Volatility\n",
    "])"
   ]
  },
  {
   "cell_type": "markdown",
   "id": "70a4422f",
   "metadata": {},
   "source": [
    "### CAPM"
   ]
  },
  {
   "cell_type": "markdown",
   "id": "705a0815",
   "metadata": {},
   "source": []
  }
 ],
 "metadata": {
  "kernelspec": {
   "display_name": "kaz-gu",
   "language": "python",
   "name": "python3"
  },
  "language_info": {
   "codemirror_mode": {
    "name": "ipython",
    "version": 3
   },
   "file_extension": ".py",
   "mimetype": "text/x-python",
   "name": "python",
   "nbconvert_exporter": "python",
   "pygments_lexer": "ipython3",
   "version": "3.13.7"
  }
 },
 "nbformat": 4,
 "nbformat_minor": 5
}
