{
 "cells": [
  {
   "cell_type": "code",
   "execution_count": 1,
   "id": "dc893d49",
   "metadata": {},
   "outputs": [],
   "source": [
    "from sympy import symbols, expand, integrate"
   ]
  },
  {
   "cell_type": "code",
   "execution_count": null,
   "id": "7911aeba",
   "metadata": {},
   "outputs": [],
   "source": [
    "# Define symbolic variables\n",
    "x, y = symbols('x y')\n",
    "# Create a symbolic expression\n",
    "expr = (x + y)**2"
   ]
  },
  {
   "cell_type": "code",
   "execution_count": null,
   "id": "e1a710c1",
   "metadata": {},
   "outputs": [],
   "source": [
    "# Expand the expression\n",
    "expanded_expr = expand(expr)\n",
    "print(f\"Expanded expression: {expanded_expr}\")"
   ]
  },
  {
   "cell_type": "code",
   "execution_count": null,
   "id": "3d4552f1",
   "metadata": {},
   "outputs": [],
   "source": [
    "# Integrate the expression with respect to x\n",
    "integrated_expr = integrate(expanded_expr, x)\n",
    "print(f\"Integrated expression: {integrated_expr}\")"
   ]
  }
 ],
 "metadata": {
  "kernelspec": {
   "display_name": "kaz-gu",
   "language": "python",
   "name": "python3"
  },
  "language_info": {
   "codemirror_mode": {
    "name": "ipython",
    "version": 3
   },
   "file_extension": ".py",
   "mimetype": "text/x-python",
   "name": "python",
   "nbconvert_exporter": "python",
   "pygments_lexer": "ipython3",
   "version": "3.13.7"
  }
 },
 "nbformat": 4,
 "nbformat_minor": 5
}
