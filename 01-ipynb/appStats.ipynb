{
 "cells": [
  {
   "cell_type": "markdown",
   "id": "330c91c1",
   "metadata": {},
   "source": [
    "## Packages"
   ]
  },
  {
   "cell_type": "code",
   "execution_count": 1,
   "id": "411d9ddb",
   "metadata": {},
   "outputs": [],
   "source": [
    "import yfinance as yf\n",
    "import pandas as pd\n",
    "import numpy as np\n",
    "from sklearn.linear_model import LinearRegression\n",
    "import matplotlib.pyplot as plt\n",
    "import statsmodels.api as sm"
   ]
  },
  {
   "cell_type": "code",
   "execution_count": 3,
   "id": "8e225f05",
   "metadata": {},
   "outputs": [],
   "source": [
    "from scipy.stats import t"
   ]
  },
  {
   "cell_type": "code",
   "execution_count": 14,
   "id": "865a2010",
   "metadata": {},
   "outputs": [],
   "source": [
    "from fractions import Fraction"
   ]
  },
  {
   "cell_type": "markdown",
   "id": "8aad37b0",
   "metadata": {},
   "source": [
    "## Collecting Data"
   ]
  },
  {
   "cell_type": "code",
   "execution_count": null,
   "id": "56022ab2",
   "metadata": {},
   "outputs": [],
   "source": [
    "eurusd = yf.Ticker(\"EURUSD=X\").history(start=\"2024-01-01\", end=\"2024-02-01\", interval=\"1d\")\n",
    "gbpusd = yf.Ticker(\"GBPUSD=X\").history(start=\"2024-01-01\", end=\"2024-02-01\", interval=\"1d\")\n",
    "# eurusd.to_csv('../00-data/eurusd.csv')\n",
    "# gbpusd.to_csv('../00-data/gbpusd.csv')"
   ]
  },
  {
   "cell_type": "code",
   "execution_count": 2,
   "id": "9947ba62",
   "metadata": {},
   "outputs": [],
   "source": [
    "# apple = yf.Ticker(\"AAPL\").history(start=\"2025-06-01\", end=\"2025-06-20\", interval=\"1d\")\n",
    "apple = yf.Ticker(\"AAPL\").history(start=\"1996-06-01\", end=\"1996-06-16\", interval=\"1d\")\n",
    "microsoft = yf.Ticker(\"MSFT\").history(start=\"1996-06-01\", end=\"1996-06-16\", interval=\"1d\")\n",
    "\n",
    "google = yf.Ticker(\"GOOG\").history(start=\"2021-06-01\", end=\"2025-06-16\", interval=\"1d\")\n",
    "amazon = yf.Ticker(\"AMZN\").history(start=\"2025-06-01\", end=\"2025-06-16\", interval=\"1d\")"
   ]
  },
  {
   "cell_type": "code",
   "execution_count": 85,
   "id": "2dc20180",
   "metadata": {},
   "outputs": [],
   "source": [
    "byd = yf.Ticker(\"BYDDY\").history(start=\"2025-09-01\", end=\"2025-09-10\", interval=\"1d\")\n",
    "tesla = yf.Ticker(\"TSLA\").history(start=\"2025-09-01\", end=\"2025-09-10\", interval=\"1d\")"
   ]
  },
  {
   "cell_type": "code",
   "execution_count": 116,
   "id": "fb0349ad",
   "metadata": {},
   "outputs": [
    {
     "data": {
      "text/plain": [
       "Date\n",
       "2025-09-02 00:00:00-04:00    117.0\n",
       "2025-09-03 00:00:00-04:00    117.0\n",
       "2025-09-04 00:00:00-04:00    117.0\n",
       "2025-09-05 00:00:00-04:00    119.0\n",
       "2025-09-08 00:00:00-04:00    121.0\n",
       "2025-09-09 00:00:00-04:00    123.0\n",
       "Name: Open, dtype: float64"
      ]
     },
     "execution_count": 116,
     "metadata": {},
     "output_type": "execute_result"
    }
   ],
   "source": [
    "coke = yf.Ticker(\"COKE\").history(start=\"2025-09-01\", end=\"2025-09-10\", interval=\"1d\")\n",
    "coke.Open.round()"
   ]
  },
  {
   "cell_type": "code",
   "execution_count": 117,
   "id": "a4b7776a",
   "metadata": {},
   "outputs": [
    {
     "data": {
      "text/plain": [
       "Date\n",
       "2025-09-02 00:00:00-04:00    156.0\n",
       "2025-09-03 00:00:00-04:00    148.0\n",
       "2025-09-04 00:00:00-04:00    148.0\n",
       "2025-09-05 00:00:00-04:00    146.0\n",
       "2025-09-08 00:00:00-04:00    146.0\n",
       "2025-09-09 00:00:00-04:00    141.0\n",
       "Name: Open, dtype: float64"
      ]
     },
     "execution_count": 117,
     "metadata": {},
     "output_type": "execute_result"
    }
   ],
   "source": [
    "pepsi = yf.Ticker(\"PEP\").history(start=\"2025-09-01\", end=\"2025-09-10\", interval=\"1d\")\n",
    "pepsi.Open.round()"
   ]
  },
  {
   "cell_type": "code",
   "execution_count": 126,
   "id": "1aba93b0",
   "metadata": {},
   "outputs": [
    {
     "data": {
      "text/plain": [
       "Date\n",
       "2025-09-02 00:00:00-04:00    29.0\n",
       "2025-09-03 00:00:00-04:00    28.0\n",
       "2025-09-04 00:00:00-04:00    29.0\n",
       "2025-09-05 00:00:00-04:00    29.0\n",
       "2025-09-08 00:00:00-04:00    28.0\n",
       "2025-09-09 00:00:00-04:00    27.0\n",
       "Name: Open, dtype: float64"
      ]
     },
     "execution_count": 126,
     "metadata": {},
     "output_type": "execute_result"
    }
   ],
   "source": [
    "pepper = yf.Ticker(\"KDP\").history(start=\"2025-09-01\", end=\"2025-09-10\", interval=\"1d\")\n",
    "pepper.Open.round()"
   ]
  },
  {
   "cell_type": "code",
   "execution_count": 127,
   "id": "e57a3812",
   "metadata": {},
   "outputs": [
    {
     "data": {
      "text/plain": [
       "Date\n",
       "2025-09-02 00:00:00-04:00    62.0\n",
       "2025-09-03 00:00:00-04:00    62.0\n",
       "2025-09-04 00:00:00-04:00    64.0\n",
       "2025-09-05 00:00:00-04:00    64.0\n",
       "2025-09-08 00:00:00-04:00    62.0\n",
       "2025-09-09 00:00:00-04:00    63.0\n",
       "Name: Open, dtype: float64"
      ]
     },
     "execution_count": 127,
     "metadata": {},
     "output_type": "execute_result"
    }
   ],
   "source": [
    "monster = yf.Ticker(\"MNST\").history(start=\"2025-09-01\", end=\"2025-09-10\", interval=\"1d\")\n",
    "monster.Open.round()"
   ]
  },
  {
   "cell_type": "markdown",
   "id": "d330a5cd",
   "metadata": {},
   "source": [
    "## 1 OLS"
   ]
  },
  {
   "cell_type": "markdown",
   "id": "38f5fd39",
   "metadata": {},
   "source": [
    "The Gauss-Markov theorem states \n",
    "that Ordinary Least Squares (OLS) estimators \n",
    "are the best linear unbiased estimators (BLUE) \n",
    "in a linear regression model, \n",
    "meaning they have the minimum variance among all linear unbiased estimators."
   ]
  },
  {
   "cell_type": "markdown",
   "id": "b70a75aa",
   "metadata": {},
   "source": [
    "## 2 Hypothesis Testing"
   ]
  },
  {
   "cell_type": "markdown",
   "id": "b6869d61",
   "metadata": {},
   "source": [
    "### t-Distribution"
   ]
  },
  {
   "cell_type": "code",
   "execution_count": 1,
   "id": "a1f51263",
   "metadata": {},
   "outputs": [],
   "source": [
    "from scipy.stats import t"
   ]
  },
  {
   "cell_type": "code",
   "execution_count": 4,
   "id": "4de3eceb",
   "metadata": {},
   "outputs": [],
   "source": [
    "# Define degrees of freedom\n",
    "df = 29 # For a sample size of 30 (n-1)"
   ]
  },
  {
   "cell_type": "code",
   "execution_count": 5,
   "id": "b93df629",
   "metadata": {},
   "outputs": [
    {
     "name": "stdout",
     "output_type": "stream",
     "text": [
      "PDF at x=1.5: 0.12893966337578505\n"
     ]
    }
   ],
   "source": [
    "# Calculate PDF at a specific value\n",
    "x_val = 1.5\n",
    "pdf_value = t.pdf(x_val, df)\n",
    "print(f\"PDF at x={x_val}: {pdf_value}\")"
   ]
  },
  {
   "cell_type": "code",
   "execution_count": 6,
   "id": "139e6d38",
   "metadata": {},
   "outputs": [
    {
     "name": "stdout",
     "output_type": "stream",
     "text": [
      "CDF at x=1.5: 0.9277881519798071\n"
     ]
    }
   ],
   "source": [
    "# Calculate CDF at a specific value\n",
    "cdf_value = t.cdf(x_val, df)\n",
    "print(f\"CDF at x={x_val}: {cdf_value}\")"
   ]
  },
  {
   "cell_type": "code",
   "execution_count": null,
   "id": "6bab1d28",
   "metadata": {},
   "outputs": [
    {
     "name": "stdout",
     "output_type": "stream",
     "text": [
      "Critical t-value for 95% CI: 2.045229642132703\n"
     ]
    }
   ],
   "source": [
    "# Find the critical t-value for a 95% confidence interval (two-tailed)\n",
    "# This means alpha/2 = 0.025 in each tail, so we look for 0.975\n",
    "critical_t_value = t.ppf(0.975, df)\n",
    "# Calculates the Percent Point Function (PPF), also known as the quantile function or inverse CDF. \n",
    "# This gives the value x for a given cumulative probability q.\n",
    "print(f\"Critical t-value for 95% CI: {critical_t_value}\")"
   ]
  },
  {
   "cell_type": "markdown",
   "id": "3e6f2410",
   "metadata": {},
   "source": [
    "### 2D Playground"
   ]
  },
  {
   "cell_type": "code",
   "execution_count": 128,
   "id": "af861001",
   "metadata": {},
   "outputs": [],
   "source": [
    "x = coke.Open.round().values #.reshape(-1, 1)\n",
    "y = pepsi.Open.round().values"
   ]
  },
  {
   "cell_type": "code",
   "execution_count": 129,
   "id": "b1e32d26",
   "metadata": {},
   "outputs": [
    {
     "name": "stdout",
     "output_type": "stream",
     "text": [
      "Σ xy = 105267.0\n",
      "Σ x = 714.0\n",
      "Σ y = 885.0\n",
      "Σ x^2 = 84998.0\n",
      "Σ y^2 = 130657.0\n"
     ]
    }
   ],
   "source": [
    "print(f\"\\u03A3 xy = {np.inner(x, y)}\")\n",
    "print(f\"\\u03A3 x = {np.sum(x)}\")\n",
    "print(f\"\\u03A3 y = {np.sum(y)}\")\n",
    "print(f\"\\u03A3 x^2 = {sum([num ** 2 for num in x])}\")\n",
    "print(f\"\\u03A3 y^2 = {sum([num ** 2 for num in y])}\")"
   ]
  },
  {
   "cell_type": "code",
   "execution_count": 138,
   "id": "c387355a",
   "metadata": {},
   "outputs": [
    {
     "data": {
      "text/plain": [
       "np.float64(-1.5)"
      ]
     },
     "execution_count": 138,
     "metadata": {},
     "output_type": "execute_result"
    }
   ],
   "source": [
    "beta = (len(x)*np.inner(x, y)-np.sum(x)*np.sum(y))/(len(x)*sum([num ** 2 for num in x]) - np.sum(x)*np.sum(x))\n",
    "beta"
   ]
  },
  {
   "cell_type": "code",
   "execution_count": 131,
   "id": "497c6521",
   "metadata": {},
   "outputs": [
    {
     "data": {
      "text/plain": [
       "np.float64(326.0)"
      ]
     },
     "execution_count": 131,
     "metadata": {},
     "output_type": "execute_result"
    }
   ],
   "source": [
    "alpha = (np.sum(y) - beta * np.sum(x))/len(x)\n",
    "alpha"
   ]
  },
  {
   "cell_type": "code",
   "execution_count": 132,
   "id": "55438727",
   "metadata": {},
   "outputs": [
    {
     "name": "stdout",
     "output_type": "stream",
     "text": [
      "Σ  e^2 = 47.5\n",
      "σ^2 = 1/(n-2)Σ e^2 =  11.875\n",
      "σ = 3.4460121880225554\n"
     ]
    }
   ],
   "source": [
    "e = y - alpha - beta * x # unbiased estimate of error\n",
    "sigma2 = sum([num ** 2 for num in e])/(len(x)-2)\n",
    "sigma = np.sqrt(sum([num ** 2 for num in e])/(len(x)-2))\n",
    "\n",
    "print(f\"\\u03A3  e^2 = {sum([num ** 2 for num in e])}\")\n",
    "print(f\"\\u03C3^2 = 1/(n-2)\\u03A3 e^2 =  {sum([num ** 2 for num in e])/(len(x)-2)}\")\n",
    "print(f\"\\u03C3 = {np.sqrt(sum([num ** 2 for num in e])/(len(x)-2))}\")"
   ]
  },
  {
   "cell_type": "code",
   "execution_count": 133,
   "id": "411f157a",
   "metadata": {},
   "outputs": [
    {
     "name": "stdout",
     "output_type": "stream",
     "text": [
      "σ^2_b = σ^2 / Σ (x-x_avg)^2=  0.37109375\n",
      "σ_b =  0.6091746465505602\n"
     ]
    }
   ],
   "source": [
    "sigma_b = np.sqrt( sigma2/sum( [ num**2 for num in (x-x.mean()) ] ) )\n",
    "\n",
    "print(f\"\\u03C3^2_b = \\u03C3^2 / \\u03A3 (x-x_avg)^2=  {sigma2/sum( [num**2 for num in (x-x.mean())])}\")\n",
    "print(f\"\\u03C3_b =  {np.sqrt(sigma2/sum( [num**2 for num in (x-x.mean())]))}\")"
   ]
  },
  {
   "cell_type": "code",
   "execution_count": 134,
   "id": "b600a148",
   "metadata": {},
   "outputs": [
    {
     "name": "stdout",
     "output_type": "stream",
     "text": [
      "σ^2_a = σ^2Σ x^2/ nΣ (x-x_avg)^2=  5257.037760416668\n",
      "σ_a =  72.50543262691885\n"
     ]
    }
   ],
   "source": [
    "sigma_a = np.sqrt( sigma2 * sum ([num**2 for num in x]) / (len(x) * sum([num**2 for num in x-x.mean()])) )\n",
    "\n",
    "print(f\"\\u03C3^2_a = \\u03C3^2\\u03A3 x^2/ n\\u03A3 (x-x_avg)^2=  {sigma_a**2}\")\n",
    "print(f\"\\u03C3_a =  {sigma_a}\")"
   ]
  },
  {
   "cell_type": "code",
   "execution_count": null,
   "id": "7d426684",
   "metadata": {},
   "outputs": [],
   "source": []
  },
  {
   "cell_type": "code",
   "execution_count": 125,
   "id": "c2642804",
   "metadata": {},
   "outputs": [
    {
     "name": "stdout",
     "output_type": "stream",
     "text": [
      "                            OLS Regression Results                            \n",
      "==============================================================================\n",
      "Dep. Variable:                      y   R-squared:                       0.603\n",
      "Model:                            OLS   Adj. R-squared:                  0.503\n",
      "Method:                 Least Squares   F-statistic:                     6.063\n",
      "Date:                Sat, 04 Oct 2025   Prob (F-statistic):             0.0695\n",
      "Time:                        12:43:14   Log-Likelihood:                -14.721\n",
      "No. Observations:                   6   AIC:                             33.44\n",
      "Df Residuals:                       4   BIC:                             33.02\n",
      "Df Model:                           1                                         \n",
      "Covariance Type:            nonrobust                                         \n",
      "==============================================================================\n",
      "                 coef    std err          t      P>|t|      [0.025      0.975]\n",
      "------------------------------------------------------------------------------\n",
      "const        326.0000     72.505      4.496      0.011     124.693     527.307\n",
      "x1            -1.5000      0.609     -2.462      0.070      -3.191       0.191\n",
      "==============================================================================\n",
      "Omnibus:                          nan   Durbin-Watson:                   1.642\n",
      "Prob(Omnibus):                    nan   Jarque-Bera (JB):                1.048\n",
      "Skew:                           1.010   Prob(JB):                        0.592\n",
      "Kurtosis:                       2.668   Cond. No.                     6.13e+03\n",
      "==============================================================================\n",
      "\n",
      "Notes:\n",
      "[1] Standard Errors assume that the covariance matrix of the errors is correctly specified.\n",
      "[2] The condition number is large, 6.13e+03. This might indicate that there are\n",
      "strong multicollinearity or other numerical problems.\n"
     ]
    },
    {
     "name": "stderr",
     "output_type": "stream",
     "text": [
      "/Users/bayan/workspace/github.com/Bayan2019/kaz-gu/.venv/lib/python3.13/site-packages/statsmodels/stats/stattools.py:74: ValueWarning: omni_normtest is not valid with less than 8 observations; 6 samples were given.\n",
      "  warn(\"omni_normtest is not valid with less than 8 observations; %i \"\n"
     ]
    }
   ],
   "source": [
    "# 2. Add a constant to the independent variable for the intercept\n",
    "# This creates the design matrix for statsmodels\n",
    "X_with_intercept = sm.add_constant(x)\n",
    "\n",
    "# 3. Create and fit the OLS (Ordinary Least Squares) model\n",
    "model = sm.OLS(y, X_with_intercept)\n",
    "results = model.fit()\n",
    "\n",
    "# 4. Print the detailed summary\n",
    "print(results.summary())"
   ]
  },
  {
   "cell_type": "code",
   "execution_count": 136,
   "id": "11019ae6",
   "metadata": {},
   "outputs": [
    {
     "name": "stdout",
     "output_type": "stream",
     "text": [
      "-3.1913399656259025, 0.1913399656259025\n"
     ]
    }
   ],
   "source": [
    "print(f\"{beta + t.ppf(0.025, len(x)-2)*sigma_b}, {beta - t.ppf(0.025, len(x)-2)*sigma_b}\")"
   ]
  },
  {
   "cell_type": "code",
   "execution_count": 137,
   "id": "6d0b6b89",
   "metadata": {},
   "outputs": [
    {
     "data": {
      "text/plain": [
       "np.float64(-2.7764451051977996)"
      ]
     },
     "execution_count": 137,
     "metadata": {},
     "output_type": "execute_result"
    }
   ],
   "source": [
    "t.ppf(0.025, len(x)-2)"
   ]
  },
  {
   "cell_type": "code",
   "execution_count": 135,
   "id": "2fe9d290",
   "metadata": {},
   "outputs": [
    {
     "data": {
      "text/plain": [
       "array([ 4.49621481, -2.46234805])"
      ]
     },
     "execution_count": 135,
     "metadata": {},
     "output_type": "execute_result"
    }
   ],
   "source": [
    "results.tvalues"
   ]
  },
  {
   "cell_type": "code",
   "execution_count": 72,
   "id": "b6b90b88",
   "metadata": {},
   "outputs": [
    {
     "data": {
      "text/plain": [
       "np.float64(-1.8595480375228428)"
      ]
     },
     "execution_count": 72,
     "metadata": {},
     "output_type": "execute_result"
    }
   ],
   "source": [
    "t.ppf(0.05, len(x)-2)"
   ]
  },
  {
   "cell_type": "code",
   "execution_count": 64,
   "id": "5a6c360f",
   "metadata": {},
   "outputs": [
    {
     "name": "stdout",
     "output_type": "stream",
     "text": [
      "σ_b = 8.096540558524469,    σ_a = 1.4982625879987566\n"
     ]
    }
   ],
   "source": [
    "print(f\"\\u03C3_b = {sigma_b},    \\u03C3_a = {sigma_a}\")"
   ]
  },
  {
   "cell_type": "code",
   "execution_count": 67,
   "id": "569f78f4",
   "metadata": {},
   "outputs": [
    {
     "name": "stdout",
     "output_type": "stream",
     "text": [
      "1.5513600590613592, 8.461359506155016\n"
     ]
    }
   ],
   "source": [
    "print(f\"{alpha + t.ppf(0.025, len(x)-2)*sigma_a}, {alpha - t.ppf(0.025, len(x)-2)*sigma_a}\")"
   ]
  },
  {
   "cell_type": "code",
   "execution_count": 60,
   "id": "bc3c0992",
   "metadata": {},
   "outputs": [
    {
     "name": "stdout",
     "output_type": "stream",
     "text": [
      "-20.730438617498578, 16.610873400112773\n"
     ]
    }
   ],
   "source": [
    "print(f\"{beta + t.ppf(0.025, len(x)-2)*sigma_b}, {beta - t.ppf(0.025, len(x)-2)*sigma_b}\")"
   ]
  },
  {
   "cell_type": "code",
   "execution_count": 66,
   "id": "093089ba",
   "metadata": {},
   "outputs": [
    {
     "name": "stdout",
     "output_type": "stream",
     "text": [
      "t.ppf = -2.3060041352041662,    t.sf = 0.490333657237232\n"
     ]
    }
   ],
   "source": [
    "print(f\"t.ppf = {t.ppf(0.025, len(x)-2)},    t.sf = {t.sf(0.025, len(x)-2)}\")"
   ]
  },
  {
   "cell_type": "code",
   "execution_count": 59,
   "id": "9a3ef9aa",
   "metadata": {},
   "outputs": [
    {
     "data": {
      "text/plain": [
       "np.float64(-20.730438617498578)"
      ]
     },
     "execution_count": 59,
     "metadata": {},
     "output_type": "execute_result"
    }
   ],
   "source": [
    "beta + t.ppf(0.025, len(x)-2)*sigma_b"
   ]
  },
  {
   "cell_type": "code",
   "execution_count": 71,
   "id": "52d4ff75",
   "metadata": {},
   "outputs": [
    {
     "data": {
      "text/plain": [
       "np.float64(16.610873400112773)"
      ]
     },
     "execution_count": 71,
     "metadata": {},
     "output_type": "execute_result"
    }
   ],
   "source": [
    "beta - t.ppf(0.025, len(x)-2)*sigma_b"
   ]
  },
  {
   "cell_type": "markdown",
   "id": "f1ca2bac",
   "metadata": {},
   "source": [
    "### 3D Playground"
   ]
  },
  {
   "cell_type": "code",
   "execution_count": 150,
   "id": "36c0195a",
   "metadata": {},
   "outputs": [],
   "source": [
    "# x = coke.Open.round().values #.reshape(-1, 1)\n",
    "y = np.array([60, 36, 36, 15, 90])\n",
    "x1 = np.array([40, 55, 45, 30, 30])\n",
    "x2 = np.array([3, 6, 5, 3.5, 1.5])"
   ]
  },
  {
   "cell_type": "code",
   "execution_count": 151,
   "id": "7ebb6f6d",
   "metadata": {},
   "outputs": [],
   "source": [
    "x = np.array([x1, x2]) @ np.array([x1, x2]).T"
   ]
  },
  {
   "cell_type": "code",
   "execution_count": 164,
   "id": "398d01c8",
   "metadata": {},
   "outputs": [
    {
     "data": {
      "text/plain": [
       "array([[8450. ,  825. ],\n",
       "       [ 825. ,   84.5]])"
      ]
     },
     "execution_count": 164,
     "metadata": {},
     "output_type": "execute_result"
    }
   ],
   "source": [
    "x"
   ]
  },
  {
   "cell_type": "code",
   "execution_count": 152,
   "id": "115d1ff0",
   "metadata": {},
   "outputs": [
    {
     "data": {
      "text/plain": [
       "array([[ 0.00252994, -0.0247006 ],\n",
       "       [-0.0247006 ,  0.25299401]])"
      ]
     },
     "execution_count": 152,
     "metadata": {},
     "output_type": "execute_result"
    }
   ],
   "source": [
    "np.linalg.inv(x)"
   ]
  },
  {
   "cell_type": "code",
   "execution_count": 154,
   "id": "c6a6963c",
   "metadata": {},
   "outputs": [
    {
     "data": {
      "text/plain": [
       "array([[1.00000000e+00, 3.05311332e-16],\n",
       "       [6.10622664e-16, 1.00000000e+00]])"
      ]
     },
     "execution_count": 154,
     "metadata": {},
     "output_type": "execute_result"
    }
   ],
   "source": [
    "np.linalg.inv(x) @ x"
   ]
  },
  {
   "cell_type": "code",
   "execution_count": 158,
   "id": "226fa5be",
   "metadata": {},
   "outputs": [],
   "source": [
    "# Convert to pandas DataFrame for easier handling, especially with the formula API\n",
    "df = pd.DataFrame(np.array([x1, x2]).T, columns=['x1', 'x2'])\n",
    "df['y'] = y"
   ]
  },
  {
   "cell_type": "code",
   "execution_count": 179,
   "id": "96ed7d64",
   "metadata": {},
   "outputs": [
    {
     "data": {
      "text/plain": [
       "array([[ 1.00000000e+00,  2.27040609e-14],\n",
       "       [-2.98372438e-16,  1.00000000e+00]])"
      ]
     },
     "execution_count": 179,
     "metadata": {},
     "output_type": "execute_result"
    }
   ],
   "source": [
    "x @ np.array([[169/66800, -33/1336], [-33/1336, 169/668]])"
   ]
  },
  {
   "cell_type": "code",
   "execution_count": null,
   "id": "83b44a42",
   "metadata": {},
   "outputs": [],
   "source": []
  },
  {
   "cell_type": "code",
   "execution_count": 176,
   "id": "52ae5099",
   "metadata": {},
   "outputs": [
    {
     "data": {
      "text/plain": [
       "array([  4.29004491, -32.8495509 ])"
      ]
     },
     "execution_count": 176,
     "metadata": {},
     "output_type": "execute_result"
    }
   ],
   "source": [
    "np.linalg.inv(x) @ np.array([x1, x2]) @ y"
   ]
  },
  {
   "cell_type": "code",
   "execution_count": 184,
   "id": "c7361b50",
   "metadata": {},
   "outputs": [],
   "source": [
    "beta = np.array([[169/66800, -33/1336], [-33/1336, 169/668]]) @ np.array([x1, x2]) @ y"
   ]
  },
  {
   "cell_type": "code",
   "execution_count": 185,
   "id": "fa7bdc6d",
   "metadata": {},
   "outputs": [
    {
     "data": {
      "text/plain": [
       "array([  4.29004491, -32.8495509 ])"
      ]
     },
     "execution_count": 185,
     "metadata": {},
     "output_type": "execute_result"
    }
   ],
   "source": [
    "beta"
   ]
  },
  {
   "cell_type": "code",
   "execution_count": 188,
   "id": "6964a5fe",
   "metadata": {},
   "outputs": [
    {
     "data": {
      "text/plain": [
       "np.float64(10.70391178704824)"
      ]
     },
     "execution_count": 188,
     "metadata": {},
     "output_type": "execute_result"
    }
   ],
   "source": [
    "np.sqrt(sum(num**2 for num in y - np.array([x1, x2]).T @ beta)/(len(y)-2))\n"
   ]
  },
  {
   "cell_type": "code",
   "execution_count": 159,
   "id": "b9a48537",
   "metadata": {},
   "outputs": [
    {
     "data": {
      "text/html": [
       "<div>\n",
       "<style scoped>\n",
       "    .dataframe tbody tr th:only-of-type {\n",
       "        vertical-align: middle;\n",
       "    }\n",
       "\n",
       "    .dataframe tbody tr th {\n",
       "        vertical-align: top;\n",
       "    }\n",
       "\n",
       "    .dataframe thead th {\n",
       "        text-align: right;\n",
       "    }\n",
       "</style>\n",
       "<table border=\"1\" class=\"dataframe\">\n",
       "  <thead>\n",
       "    <tr style=\"text-align: right;\">\n",
       "      <th></th>\n",
       "      <th>x1</th>\n",
       "      <th>x2</th>\n",
       "      <th>y</th>\n",
       "    </tr>\n",
       "  </thead>\n",
       "  <tbody>\n",
       "    <tr>\n",
       "      <th>0</th>\n",
       "      <td>40.0</td>\n",
       "      <td>3.0</td>\n",
       "      <td>60</td>\n",
       "    </tr>\n",
       "    <tr>\n",
       "      <th>1</th>\n",
       "      <td>55.0</td>\n",
       "      <td>6.0</td>\n",
       "      <td>36</td>\n",
       "    </tr>\n",
       "    <tr>\n",
       "      <th>2</th>\n",
       "      <td>45.0</td>\n",
       "      <td>5.0</td>\n",
       "      <td>36</td>\n",
       "    </tr>\n",
       "    <tr>\n",
       "      <th>3</th>\n",
       "      <td>30.0</td>\n",
       "      <td>3.5</td>\n",
       "      <td>15</td>\n",
       "    </tr>\n",
       "    <tr>\n",
       "      <th>4</th>\n",
       "      <td>30.0</td>\n",
       "      <td>1.5</td>\n",
       "      <td>90</td>\n",
       "    </tr>\n",
       "  </tbody>\n",
       "</table>\n",
       "</div>"
      ],
      "text/plain": [
       "     x1   x2   y\n",
       "0  40.0  3.0  60\n",
       "1  55.0  6.0  36\n",
       "2  45.0  5.0  36\n",
       "3  30.0  3.5  15\n",
       "4  30.0  1.5  90"
      ]
     },
     "execution_count": 159,
     "metadata": {},
     "output_type": "execute_result"
    }
   ],
   "source": [
    "df"
   ]
  },
  {
   "cell_type": "code",
   "execution_count": 170,
   "id": "0a37e54a",
   "metadata": {},
   "outputs": [],
   "source": [
    "# 2. Add a constant to the independent variables for the intercept term\n",
    "# This is necessary when using the non-formula API (sm.OLS)\n",
    "X_with_constant = sm.add_constant(df[['x1', 'x2']])"
   ]
  },
  {
   "cell_type": "code",
   "execution_count": 177,
   "id": "b5becd4b",
   "metadata": {},
   "outputs": [],
   "source": [
    "# 3. Fit the OLS model\n",
    "# Method 1: Using the direct OLS class\n",
    "model_direct = sm.OLS(df['y'], df[['x1', 'x2']])\n",
    "results_direct = model_direct.fit()"
   ]
  },
  {
   "cell_type": "code",
   "execution_count": 178,
   "id": "d76c84bf",
   "metadata": {},
   "outputs": [
    {
     "name": "stdout",
     "output_type": "stream",
     "text": [
      "Results from direct OLS:\n",
      "                                 OLS Regression Results                                \n",
      "=======================================================================================\n",
      "Dep. Variable:                      y   R-squared (uncentered):                   0.976\n",
      "Model:                            OLS   Adj. R-squared (uncentered):              0.961\n",
      "Method:                 Least Squares   F-statistic:                              61.85\n",
      "Date:                Sat, 04 Oct 2025   Prob (F-statistic):                     0.00364\n",
      "Time:                        14:27:05   Log-Likelihood:                         -17.671\n",
      "No. Observations:                   5   AIC:                                      39.34\n",
      "Df Residuals:                       3   BIC:                                      38.56\n",
      "Df Model:                           2                                                  \n",
      "Covariance Type:            nonrobust                                                  \n",
      "==============================================================================\n",
      "                 coef    std err          t      P>|t|      [0.025      0.975]\n",
      "------------------------------------------------------------------------------\n",
      "x1             4.2900      0.538      7.968      0.004       2.577       6.003\n",
      "x2           -32.8496      5.384     -6.101      0.009     -49.984     -15.716\n",
      "==============================================================================\n",
      "Omnibus:                          nan   Durbin-Watson:                   0.950\n",
      "Prob(Omnibus):                    nan   Jarque-Bera (JB):                0.392\n",
      "Skew:                          -0.472   Prob(JB):                        0.822\n",
      "Kurtosis:                       2.004   Cond. No.                         46.7\n",
      "==============================================================================\n",
      "\n",
      "Notes:\n",
      "[1] R² is computed without centering (uncentered) since the model does not contain a constant.\n",
      "[2] Standard Errors assume that the covariance matrix of the errors is correctly specified.\n"
     ]
    },
    {
     "name": "stderr",
     "output_type": "stream",
     "text": [
      "/Users/bayan/workspace/github.com/Bayan2019/kaz-gu/.venv/lib/python3.13/site-packages/statsmodels/stats/stattools.py:74: ValueWarning: omni_normtest is not valid with less than 8 observations; 5 samples were given.\n",
      "  warn(\"omni_normtest is not valid with less than 8 observations; %i \"\n"
     ]
    }
   ],
   "source": [
    "# 4. Print the summary of the regression results\n",
    "print(\"Results from direct OLS:\")\n",
    "print(results_direct.summary())"
   ]
  },
  {
   "cell_type": "code",
   "execution_count": 172,
   "id": "245156b6",
   "metadata": {},
   "outputs": [],
   "source": [
    "# Method 2: Using the formula API (often more convenient)\n",
    "# Requires 'statsmodels.formula.api'\n",
    "import statsmodels.formula.api as smf\n",
    "model_formula = smf.ols(\"y ~ x1 + x2\", data=df)\n",
    "results_formula = model_formula.fit()"
   ]
  },
  {
   "cell_type": "code",
   "execution_count": 175,
   "id": "3ff8100f",
   "metadata": {},
   "outputs": [
    {
     "name": "stdout",
     "output_type": "stream",
     "text": [
      "Results from formula OLS:\n",
      "                            OLS Regression Results                            \n",
      "==============================================================================\n",
      "Dep. Variable:                      y   R-squared:                       0.911\n",
      "Model:                            OLS   Adj. R-squared:                  0.821\n",
      "Method:                 Least Squares   F-statistic:                     10.18\n",
      "Date:                Sat, 04 Oct 2025   Prob (F-statistic):             0.0895\n",
      "Time:                        14:25:52   Log-Likelihood:                -17.277\n",
      "No. Observations:                   5   AIC:                             40.55\n",
      "Df Residuals:                       2   BIC:                             39.38\n",
      "Df Model:                           2                                         \n",
      "Covariance Type:            nonrobust                                         \n",
      "==============================================================================\n",
      "                 coef    std err          t      P>|t|      [0.025      0.975]\n",
      "------------------------------------------------------------------------------\n",
      "Intercept     15.9733     27.364      0.584      0.618    -101.764     133.711\n",
      "x1             3.7042      1.174      3.155      0.087      -1.348       8.756\n",
      "x2           -30.7214      7.102     -4.326      0.050     -61.280      -0.163\n",
      "==============================================================================\n",
      "Omnibus:                          nan   Durbin-Watson:                   1.754\n",
      "Prob(Omnibus):                    nan   Jarque-Bera (JB):                0.429\n",
      "Skew:                          -0.335   Prob(JB):                        0.807\n",
      "Kurtosis:                       1.731   Cond. No.                         211.\n",
      "==============================================================================\n",
      "\n",
      "Notes:\n",
      "[1] Standard Errors assume that the covariance matrix of the errors is correctly specified.\n"
     ]
    },
    {
     "name": "stderr",
     "output_type": "stream",
     "text": [
      "/Users/bayan/workspace/github.com/Bayan2019/kaz-gu/.venv/lib/python3.13/site-packages/statsmodels/stats/stattools.py:74: ValueWarning: omni_normtest is not valid with less than 8 observations; 5 samples were given.\n",
      "  warn(\"omni_normtest is not valid with less than 8 observations; %i \"\n"
     ]
    }
   ],
   "source": [
    "# 4. Print the summary of the regression results\n",
    "print(\"Results from formula OLS:\")\n",
    "print(results_formula.summary())"
   ]
  },
  {
   "cell_type": "markdown",
   "id": "2c952fbd",
   "metadata": {},
   "source": []
  }
 ],
 "metadata": {
  "kernelspec": {
   "display_name": "kaz-gu",
   "language": "python",
   "name": "python3"
  },
  "language_info": {
   "codemirror_mode": {
    "name": "ipython",
    "version": 3
   },
   "file_extension": ".py",
   "mimetype": "text/x-python",
   "name": "python",
   "nbconvert_exporter": "python",
   "pygments_lexer": "ipython3",
   "version": "3.13.7"
  }
 },
 "nbformat": 4,
 "nbformat_minor": 5
}
