{
 "cells": [
  {
   "cell_type": "markdown",
   "id": "330c91c1",
   "metadata": {},
   "source": [
    "## Packages"
   ]
  },
  {
   "cell_type": "code",
   "execution_count": null,
   "id": "433aed68",
   "metadata": {},
   "outputs": [],
   "source": [
    "import yfinance as yf\n",
    "import pandas as pd\n",
    "from sympy import symbols, expand, integrate"
   ]
  },
  {
   "cell_type": "markdown",
   "id": "8aad37b0",
   "metadata": {},
   "source": [
    "## Collecting Data"
   ]
  },
  {
   "cell_type": "code",
   "execution_count": null,
   "id": "56022ab2",
   "metadata": {},
   "outputs": [],
   "source": [
    "eurusd = yf.Ticker(\"EURUSD=X\").history(start=\"2024-01-01\", end=\"2024-02-01\", interval=\"1d\")\n",
    "gbpusd = yf.Ticker(\"GBPUSD=X\").history(start=\"2024-01-01\", end=\"2024-02-01\", interval=\"1d\")"
   ]
  },
  {
   "cell_type": "code",
   "execution_count": null,
   "id": "d0940dca",
   "metadata": {},
   "outputs": [],
   "source": [
    "eurusd.to_csv('../00-data/eurusd.csv')\n",
    "gbpusd.to_csv('../00-data/gbpusd.csv')"
   ]
  },
  {
   "cell_type": "markdown",
   "id": "2c952fbd",
   "metadata": {},
   "source": []
  }
 ],
 "metadata": {
  "kernelspec": {
   "display_name": "kaz-gu",
   "language": "python",
   "name": "python3"
  },
  "language_info": {
   "codemirror_mode": {
    "name": "ipython",
    "version": 3
   },
   "file_extension": ".py",
   "mimetype": "text/x-python",
   "name": "python",
   "nbconvert_exporter": "python",
   "pygments_lexer": "ipython3",
   "version": "3.13.7"
  }
 },
 "nbformat": 4,
 "nbformat_minor": 5
}
