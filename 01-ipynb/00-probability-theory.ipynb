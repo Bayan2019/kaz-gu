{
 "cells": [
  {
   "cell_type": "markdown",
   "id": "3e6d8fd6",
   "metadata": {},
   "source": [
    "The probability density function (pdf) of the chi-squared distribution is\n",
    "$$f(x, k) = $$"
   ]
  }
 ],
 "metadata": {
  "language_info": {
   "name": "python"
  }
 },
 "nbformat": 4,
 "nbformat_minor": 5
}
